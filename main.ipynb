{
 "cells": [
  {
   "cell_type": "markdown",
   "id": "abc7ade6",
   "metadata": {},
   "source": [
    "<table align=\"left\">\n",
    "  <td>\n",
    "    <a href=\"https://colab.research.google.com/github/nguwijy/coding_trees/blob/master/main.ipynb\" target=\"_parent\"><img src=\"https://colab.research.google.com/assets/colab-badge.svg\" alt=\"Open In Colab\"/></a>\n",
    "  </td>\n",
    "</table>"
   ]
  },
  {
   "cell_type": "code",
   "execution_count": 2,
   "id": "c0e306ab",
   "metadata": {},
   "outputs": [],
   "source": [
    "import os\n",
    "# install the package if not yet installed\n",
    "try:\n",
    "    from branch.branch import Net\n",
    "except:\n",
    "    !python -m pip install git+https://github.com/nguwijy/deep_branching_with_domain.git\n",
    "    from branch.branch import Net\n",
    "import math\n",
    "import time\n",
    "import torch\n",
    "import matplotlib.pyplot as plt\n",
    "import numpy as np\n",
    "import pandas as pd\n",
    "from DeepBSDE.main import main as deep_bsde\n",
    "\n",
    "device = torch.device(\"cuda\" if torch.cuda.is_available() else \"cpu\")"
   ]
  },
  {
   "cell_type": "code",
   "execution_count": null,
   "id": "8719b0cd",
   "metadata": {},
   "outputs": [],
   "source": [
    "def simulate_mc_and_plot(model, exact_example=None, nb_spatial=10, repeats=1, return_mc=False, plt_and_save=True):\n",
    "    if not os.path.isdir('logs/'):\n",
    "        os.makedirs('logs/')\n",
    "    tx = torch.zeros(nb_spatial, model.dim_in + 1, device=device)\n",
    "    tx[:, -1] = torch.linspace(model.x_lo, model.x_hi, nb_spatial)\n",
    "    mc = 0\n",
    "    for _ in range(repeats):\n",
    "        x, y = model.gen_sample(patch=0, tx=tx)\n",
    "        mc += y[:, 0].cpu()\n",
    "    mc /= repeats\n",
    "    \n",
    "    # original grid for mc\n",
    "    mc_grid = tx[:, -1].cpu()\n",
    "   \n",
    "    # can't plot & save when exact_example is not given\n",
    "    plt_and_save = False if exact_example is None else plt_and_save\n",
    "    if plt_and_save:\n",
    "         # finer grid for exact solution\n",
    "        x = np.zeros((model.dim_in, 10 * nb_spatial))\n",
    "        exact_grid = np.linspace(model.x_lo, model.x_hi, 10 * nb_spatial)\n",
    "        x[-1] = exact_grid\n",
    "\n",
    "        # plot\n",
    "        plt.scatter(mc_grid, mc, s=50, facecolors='none', edgecolors='black', label='MC')\n",
    "        exact = exact_example(t=0, x=x, T=T, coordinate=0)\n",
    "        terminal = exact_example(t=T, x=x, T=T, coordinate=0)\n",
    "        plt.plot(exact_grid, exact, color='black', label='exact')\n",
    "        plt.plot(exact_grid, terminal, '--',color='black', label='terminal')\n",
    "        plt.legend()\n",
    "        plt.show()\n",
    "\n",
    "        np.savetxt(\n",
    "            \"logs/plt_\" + model.problem_name + \"_fine.csv\",\n",
    "            np.stack((exact_grid, exact, terminal), axis=-1),\n",
    "            delimiter=\",\",\n",
    "            header=\"x, true, terminal\",\n",
    "            comments=\"\",\n",
    "        )\n",
    "        np.savetxt(\n",
    "            \"logs/plt_\" + model.problem_name + \"_coarse.csv\",\n",
    "            np.stack((mc_grid, mc), axis=-1),\n",
    "            delimiter=\",\",\n",
    "            header=\"x, branch\",\n",
    "            comments=\"\",\n",
    "        )\n",
    "    \n",
    "    if return_mc:\n",
    "        return mc_grid, mc"
   ]
  },
  {
   "cell_type": "markdown",
   "id": "0b8cea50",
   "metadata": {},
   "source": [
    "## Allen Cahn Equation (5.1)"
   ]
  },
  {
   "cell_type": "code",
   "execution_count": 3,
   "id": "24998f7c",
   "metadata": {},
   "outputs": [],
   "source": [
    "problem_name = \"allen_cahn_weinan\"\n",
    "nu = 2\n",
    "\n",
    "fixed_dim, dim = 0, 100\n",
    "\n",
    "# function definition\n",
    "deriv_map = np.array([0] * dim).reshape(-1, dim)\n",
    "def f_example(y, coordinate=0):\n",
    "    \"\"\"\n",
    "    idx 0 -> no deriv\n",
    "    \"\"\"\n",
    "    return y[0] - y[0] ** 3\n",
    "\n",
    "def phi_example(x, coordinate=0):\n",
    "    return 1 / (2 + 2/5 * (x ** 2).sum(dim=0))\n",
    "\n",
    "x_lo, x_hi = 0., 0."
   ]
  },
  {
   "cell_type": "code",
   "execution_count": 8,
   "id": "110c29f8",
   "metadata": {},
   "outputs": [
    {
     "name": "stderr",
     "output_type": "stream",
     "text": [
      "Logs are saved in /home/nguwijy/deep_branching_with_domain/notebooks/logs/tmp\n"
     ]
    },
    {
     "name": "stdout",
     "output_type": "stream",
     "text": [
      "fdb time: 0.1 seconds; total time: 37.0 seconds; time without fdb: 36.9 seconds.\n"
     ]
    }
   ],
   "source": [
    "patches = 1\n",
    "T = patches * .3\n",
    "\n",
    "nb_mc = 5  # weinan ran 5 independent runs for Table 1\n",
    "\n",
    "# define NN and train\n",
    "start = time.time()\n",
    "torch.manual_seed(0)\n",
    "model = Net(\n",
    "    problem_name=problem_name,\n",
    "    f_fun=f_example,\n",
    "    deriv_map=deriv_map,\n",
    "    phi_fun=phi_example,\n",
    "    device=device,\n",
    "    x_lo=x_lo,\n",
    "    x_hi=x_hi,\n",
    "    T=T,\n",
    "    verbose=True,\n",
    "    nu=nu,\n",
    "    branch_patches=patches,\n",
    "    branch_nb_path_per_state=100000,\n",
    "    save_as_tmp=True,\n",
    ")\n",
    "x, mc = simulate_mc_and_plot(model, nb_spatial=nb_mc, return_mc=True, repeats=10)\n",
    "mc = mc.numpy()\n",
    "tot_time = time.time() - start\n",
    "time_without_fdb = tot_time - model.fdb_runtime\n",
    "print(f\"fdb time: {model.fdb_runtime:.1f} seconds; total time: {tot_time:.1f} seconds; time without fdb: {time_without_fdb:.1f} seconds.\")"
   ]
  },
  {
   "cell_type": "code",
   "execution_count": 9,
   "id": "8659d4bf",
   "metadata": {},
   "outputs": [
    {
     "data": {
      "text/html": [
       "<div>\n",
       "<style scoped>\n",
       "    .dataframe tbody tr th:only-of-type {\n",
       "        vertical-align: middle;\n",
       "    }\n",
       "\n",
       "    .dataframe tbody tr th {\n",
       "        vertical-align: top;\n",
       "    }\n",
       "\n",
       "    .dataframe thead th {\n",
       "        text-align: right;\n",
       "    }\n",
       "</style>\n",
       "<table border=\"1\" class=\"dataframe\">\n",
       "  <thead>\n",
       "    <tr style=\"text-align: right;\">\n",
       "      <th></th>\n",
       "      <th>weinan Table 1</th>\n",
       "      <th>branch</th>\n",
       "    </tr>\n",
       "  </thead>\n",
       "  <tbody>\n",
       "    <tr>\n",
       "      <th>mean of solution</th>\n",
       "      <td>0.0528</td>\n",
       "      <td>0.052754</td>\n",
       "    </tr>\n",
       "    <tr>\n",
       "      <th>std of solution</th>\n",
       "      <td>0.0002</td>\n",
       "      <td>0.000364</td>\n",
       "    </tr>\n",
       "    <tr>\n",
       "      <th>mean of L1 relative error</th>\n",
       "      <td>0.0030</td>\n",
       "      <td>0.005916</td>\n",
       "    </tr>\n",
       "    <tr>\n",
       "      <th>std of L1 relative error</th>\n",
       "      <td>0.0022</td>\n",
       "      <td>0.003661</td>\n",
       "    </tr>\n",
       "    <tr>\n",
       "      <th>mean of runtime</th>\n",
       "      <td>647.0000</td>\n",
       "      <td>7.000000</td>\n",
       "    </tr>\n",
       "  </tbody>\n",
       "</table>\n",
       "</div>"
      ],
      "text/plain": [
       "                           weinan Table 1    branch\n",
       "mean of solution                   0.0528  0.052754\n",
       "std of solution                    0.0002  0.000364\n",
       "mean of L1 relative error          0.0030  0.005916\n",
       "std of L1 relative error           0.0022  0.003661\n",
       "mean of runtime                  647.0000  7.000000"
      ]
     },
     "execution_count": 9,
     "metadata": {},
     "output_type": "execute_result"
    }
   ],
   "source": [
    "true_sol = 0.052802  # this is given by Weinan\n",
    "error = np.abs(mc - true_sol) / true_sol\n",
    "\n",
    "weinan = [0.0528, 0.0002, 0.0030, 0.0022, 647]\n",
    "branch = [mc.mean(), mc.std(), error.mean(), error.std(), time_without_fdb // nb_mc]\n",
    "df = pd.DataFrame({'weinan Table 1': weinan, 'branch': branch}).T\n",
    "df.columns = ['mean of solution', 'std of solution', 'mean of L1 relative error', 'std of L1 relative error', 'mean of runtime']\n",
    "df.T"
   ]
  },
  {
   "cell_type": "markdown",
   "id": "fad67a89",
   "metadata": {},
   "source": [
    "## HJB Equation (5.8)"
   ]
  },
  {
   "cell_type": "code",
   "execution_count": 29,
   "id": "ef089bca",
   "metadata": {},
   "outputs": [],
   "source": [
    "problem_name = \"hjb_weinan\"\n",
    "nu = 2\n",
    "\n",
    "fixed_dim, dim = 0, 100\n",
    "\n",
    "# function definition\n",
    "deriv_map = np.identity(dim).astype(int)\n",
    "def f_example(y, coordinate=0):\n",
    "    \"\"\"\n",
    "    idx 0 to d-1 -> first deriv\n",
    "    \"\"\"\n",
    "    return -(y ** 2).sum(dim=0)\n",
    "\n",
    "def phi_example(x, coordinate=0):\n",
    "    return torch.log((1 + (x ** 2).sum(dim=0)) / 2)\n",
    "\n",
    "x_lo, x_hi = 0., 0."
   ]
  },
  {
   "cell_type": "code",
   "execution_count": 30,
   "id": "c2505b2d",
   "metadata": {},
   "outputs": [
    {
     "name": "stderr",
     "output_type": "stream",
     "text": [
      "Logs are saved in /home/nguwijy/deep_branching_with_domain/notebooks/logs/tmp\n"
     ]
    },
    {
     "name": "stdout",
     "output_type": "stream",
     "text": [
      "fdb time: 4124.7 seconds; total time: 4855.3 seconds; time without fdb: 730.6 seconds.\n"
     ]
    }
   ],
   "source": [
    "patches = 1\n",
    "T = patches * 1\n",
    "\n",
    "nb_mc = 5  # weinan ran 5 independent runs for Table 1\n",
    "time_list, mc_list = [], []\n",
    "\n",
    "# define NN and train\n",
    "start = time.time()\n",
    "torch.manual_seed(0)\n",
    "model = Net(\n",
    "    problem_name=problem_name,\n",
    "    f_fun=f_example,\n",
    "    deriv_map=deriv_map,\n",
    "    phi_fun=phi_example,\n",
    "    device=device,\n",
    "    x_lo=x_lo,\n",
    "    x_hi=x_hi,\n",
    "    T=T,\n",
    "    verbose=True,\n",
    "    nu=nu,\n",
    "    branch_patches=patches,\n",
    "    branch_nb_path_per_state=100000,\n",
    "    save_as_tmp=True,\n",
    ")\n",
    "x, mc = simulate_mc_and_plot(model, nb_spatial=nb_mc, return_mc=True)\n",
    "mc = mc.numpy()\n",
    "tot_time = time.time() - start\n",
    "time_without_fdb = tot_time - model.fdb_runtime\n",
    "print(f\"fdb time: {model.fdb_runtime:.1f} seconds; total time: {tot_time:.1f} seconds; time without fdb: {time_without_fdb:.1f} seconds.\")"
   ]
  },
  {
   "cell_type": "code",
   "execution_count": 31,
   "id": "200d2092",
   "metadata": {},
   "outputs": [
    {
     "data": {
      "text/html": [
       "<div>\n",
       "<style scoped>\n",
       "    .dataframe tbody tr th:only-of-type {\n",
       "        vertical-align: middle;\n",
       "    }\n",
       "\n",
       "    .dataframe tbody tr th {\n",
       "        vertical-align: top;\n",
       "    }\n",
       "\n",
       "    .dataframe thead th {\n",
       "        text-align: right;\n",
       "    }\n",
       "</style>\n",
       "<table border=\"1\" class=\"dataframe\">\n",
       "  <thead>\n",
       "    <tr style=\"text-align: right;\">\n",
       "      <th></th>\n",
       "      <th>weinan Table 2</th>\n",
       "      <th>branch</th>\n",
       "    </tr>\n",
       "  </thead>\n",
       "  <tbody>\n",
       "    <tr>\n",
       "      <th>mean of solution</th>\n",
       "      <td>4.5977</td>\n",
       "      <td>4.580340</td>\n",
       "    </tr>\n",
       "    <tr>\n",
       "      <th>std of solution</th>\n",
       "      <td>0.0019</td>\n",
       "      <td>0.001869</td>\n",
       "    </tr>\n",
       "    <tr>\n",
       "      <th>mean of L1 relative error</th>\n",
       "      <td>0.0017</td>\n",
       "      <td>0.002126</td>\n",
       "    </tr>\n",
       "    <tr>\n",
       "      <th>std of L1 relative error</th>\n",
       "      <td>0.0004</td>\n",
       "      <td>0.000407</td>\n",
       "    </tr>\n",
       "    <tr>\n",
       "      <th>mean of runtime</th>\n",
       "      <td>330.0000</td>\n",
       "      <td>146.000000</td>\n",
       "    </tr>\n",
       "  </tbody>\n",
       "</table>\n",
       "</div>"
      ],
      "text/plain": [
       "                           weinan Table 2      branch\n",
       "mean of solution                   4.5977    4.580340\n",
       "std of solution                    0.0019    0.001869\n",
       "mean of L1 relative error          0.0017    0.002126\n",
       "std of L1 relative error           0.0004    0.000407\n",
       "mean of runtime                  330.0000  146.000000"
      ]
     },
     "execution_count": 31,
     "metadata": {},
     "output_type": "execute_result"
    }
   ],
   "source": [
    "true_sol = 4.5901  # this is given by Weinan\n",
    "error = np.abs(mc - true_sol) / true_sol\n",
    "\n",
    "weinan = [4.5977, 0.0019, 0.0017, 0.0004, 330]\n",
    "branch = [mc.mean(), mc.std(), error.mean(), error.std(), time_without_fdb // nb_mc]\n",
    "df = pd.DataFrame({'weinan Table 2': weinan, 'branch': branch}).T\n",
    "df.columns = ['mean of solution', 'std of solution', 'mean of L1 relative error', 'std of L1 relative error', 'mean of runtime']\n",
    "df.T"
   ]
  },
  {
   "cell_type": "markdown",
   "id": "37f0376f",
   "metadata": {},
   "source": [
    "## Allen Cahn Equation (5.2) - Blow Up Analysis"
   ]
  },
  {
   "cell_type": "code",
   "execution_count": 4,
   "id": "57b22422",
   "metadata": {},
   "outputs": [],
   "source": [
    "def blow_up_analysis(T_arr, dim, problem_name, deriv_map, f_example, phi_example, exact_example):\n",
    "    df = []\n",
    "    for T in T_arr:\n",
    "        print(f\"Now dealing with T = {T}...\")\n",
    "        # initialize branching model\n",
    "        torch.manual_seed(0)\n",
    "        model = Net(\n",
    "            problem_name=problem_name,\n",
    "            f_fun=f_example,\n",
    "            deriv_map=deriv_map,\n",
    "            phi_fun=phi_example,\n",
    "            device=device,\n",
    "            x_lo=0,\n",
    "            x_hi=0,\n",
    "            T=T,\n",
    "            verbose=True,\n",
    "            branch_nb_path_per_state=100000,\n",
    "            save_as_tmp=True,\n",
    "        )\n",
    "        tx = torch.zeros(1, model.dim_in + 1, device=device)\n",
    "        \n",
    "        # branching mc calculation\n",
    "        start = time.time()\n",
    "        mc, repeats = 0, 10\n",
    "        for _ in range(repeats):\n",
    "            x, y = model.gen_sample(patch=0, tx=tx)\n",
    "            mc += y[:, 0].cpu()\n",
    "        mc = mc[0].item() / repeats\n",
    "        mc_time = time.time() - start\n",
    "        \n",
    "        # exact calculation & bsde calculation\n",
    "        exact = exact_example(t=0, x=np.zeros((model.dim_in, 1)), T=T, coordinate=0)[0]\n",
    "        start = time.time()\n",
    "        bsde = deep_bsde(total_time=T, verbose=False, dim=dim, y_init_range=[-1, 0])[-1][2]\n",
    "        bsde_time = time.time() - start\n",
    "        \n",
    "        df.append([T, mc, bsde, exact, mc_time, bsde_time])\n",
    "    \n",
    "    # create df & save\n",
    "    if not os.path.isdir('logs/'):\n",
    "        os.makedirs('logs/')\n",
    "    df = pd.DataFrame(df, columns=['T', 'branch', 'deep_bsde', 'exact', 'branch time (seconds)', 'deep_bsde time (seconds)'])\n",
    "    df.to_csv(\"logs/\" + problem_name + \".csv\")\n",
    "    \n",
    "    return df"
   ]
  },
  {
   "cell_type": "markdown",
   "id": "60d618ee",
   "metadata": {},
   "source": [
    "### Dimension d = 1"
   ]
  },
  {
   "cell_type": "code",
   "execution_count": 6,
   "id": "1a362323",
   "metadata": {
    "scrolled": true
   },
   "outputs": [
    {
     "name": "stderr",
     "output_type": "stream",
     "text": [
      "Logs are saved in /home/nguwijy/deep_branching_with_domain/notebooks/logs/tmp\n"
     ]
    },
    {
     "name": "stdout",
     "output_type": "stream",
     "text": [
      "Now dealing with T = 0.05...\n"
     ]
    },
    {
     "name": "stderr",
     "output_type": "stream",
     "text": [
      "Begin to solve AllenCahn \n",
      "Y0_true: -5.1874e-01\n",
      "relative error of Y0: -0.00%\n",
      "Logs are saved in /home/nguwijy/deep_branching_with_domain/notebooks/logs/tmp\n"
     ]
    },
    {
     "name": "stdout",
     "output_type": "stream",
     "text": [
      "Now dealing with T = 0.1...\n"
     ]
    },
    {
     "name": "stderr",
     "output_type": "stream",
     "text": [
      "Begin to solve AllenCahn \n",
      "Y0_true: -5.3743e-01\n",
      "relative error of Y0: -0.01%\n",
      "Logs are saved in /home/nguwijy/deep_branching_with_domain/notebooks/logs/tmp\n"
     ]
    },
    {
     "name": "stdout",
     "output_type": "stream",
     "text": [
      "Now dealing with T = 0.15000000000000002...\n"
     ]
    },
    {
     "name": "stderr",
     "output_type": "stream",
     "text": [
      "Begin to solve AllenCahn \n",
      "Y0_true: -5.5601e-01\n",
      "relative error of Y0: -0.01%\n",
      "Logs are saved in /home/nguwijy/deep_branching_with_domain/notebooks/logs/tmp\n"
     ]
    },
    {
     "name": "stdout",
     "output_type": "stream",
     "text": [
      "Now dealing with T = 0.2...\n"
     ]
    },
    {
     "name": "stderr",
     "output_type": "stream",
     "text": [
      "Begin to solve AllenCahn \n",
      "Y0_true: -5.7444e-01\n",
      "relative error of Y0: -0.02%\n",
      "Logs are saved in /home/nguwijy/deep_branching_with_domain/notebooks/logs/tmp\n"
     ]
    },
    {
     "name": "stdout",
     "output_type": "stream",
     "text": [
      "Now dealing with T = 0.25...\n"
     ]
    },
    {
     "name": "stderr",
     "output_type": "stream",
     "text": [
      "Begin to solve AllenCahn \n",
      "Y0_true: -5.9267e-01\n",
      "relative error of Y0: -0.03%\n",
      "Logs are saved in /home/nguwijy/deep_branching_with_domain/notebooks/logs/tmp\n"
     ]
    },
    {
     "name": "stdout",
     "output_type": "stream",
     "text": [
      "Now dealing with T = 0.3...\n"
     ]
    },
    {
     "name": "stderr",
     "output_type": "stream",
     "text": [
      "Begin to solve AllenCahn \n",
      "Y0_true: -6.1064e-01\n",
      "relative error of Y0: -5.39%\n",
      "Logs are saved in /home/nguwijy/deep_branching_with_domain/notebooks/logs/tmp\n"
     ]
    },
    {
     "name": "stdout",
     "output_type": "stream",
     "text": [
      "Now dealing with T = 0.35000000000000003...\n"
     ]
    },
    {
     "name": "stderr",
     "output_type": "stream",
     "text": [
      "Begin to solve AllenCahn \n",
      "Y0_true: -6.2832e-01\n",
      "relative error of Y0: -0.04%\n",
      "Logs are saved in /home/nguwijy/deep_branching_with_domain/notebooks/logs/tmp\n"
     ]
    },
    {
     "name": "stdout",
     "output_type": "stream",
     "text": [
      "Now dealing with T = 0.4...\n"
     ]
    },
    {
     "name": "stderr",
     "output_type": "stream",
     "text": [
      "Begin to solve AllenCahn \n",
      "Y0_true: -6.4566e-01\n",
      "relative error of Y0: -0.05%\n",
      "Logs are saved in /home/nguwijy/deep_branching_with_domain/notebooks/logs/tmp\n"
     ]
    },
    {
     "name": "stdout",
     "output_type": "stream",
     "text": [
      "Now dealing with T = 0.45...\n"
     ]
    },
    {
     "name": "stderr",
     "output_type": "stream",
     "text": [
      "Begin to solve AllenCahn \n",
      "Y0_true: -6.6262e-01\n",
      "relative error of Y0: -22.45%\n",
      "Logs are saved in /home/nguwijy/deep_branching_with_domain/notebooks/logs/tmp\n"
     ]
    },
    {
     "name": "stdout",
     "output_type": "stream",
     "text": [
      "Now dealing with T = 0.5...\n"
     ]
    },
    {
     "name": "stderr",
     "output_type": "stream",
     "text": [
      "Begin to solve AllenCahn \n",
      "Y0_true: -6.7918e-01\n",
      "relative error of Y0: -0.05%\n",
      "Logs are saved in /home/nguwijy/deep_branching_with_domain/notebooks/logs/tmp\n"
     ]
    },
    {
     "name": "stdout",
     "output_type": "stream",
     "text": [
      "Now dealing with T = 0.55...\n"
     ]
    },
    {
     "name": "stderr",
     "output_type": "stream",
     "text": [
      "Begin to solve AllenCahn \n",
      "Y0_true: -6.9530e-01\n",
      "relative error of Y0: -0.03%\n",
      "Logs are saved in /home/nguwijy/deep_branching_with_domain/notebooks/logs/tmp\n"
     ]
    },
    {
     "name": "stdout",
     "output_type": "stream",
     "text": [
      "Now dealing with T = 0.6000000000000001...\n"
     ]
    },
    {
     "name": "stderr",
     "output_type": "stream",
     "text": [
      "Begin to solve AllenCahn \n",
      "Y0_true: -7.1095e-01\n",
      "relative error of Y0: -61.98%\n",
      "Logs are saved in /home/nguwijy/deep_branching_with_domain/notebooks/logs/tmp\n"
     ]
    },
    {
     "name": "stdout",
     "output_type": "stream",
     "text": [
      "Now dealing with T = 0.6500000000000001...\n"
     ]
    },
    {
     "name": "stderr",
     "output_type": "stream",
     "text": [
      "Begin to solve AllenCahn \n",
      "Y0_true: -7.2611e-01\n",
      "relative error of Y0: nan%\n",
      "Logs are saved in /home/nguwijy/deep_branching_with_domain/notebooks/logs/tmp\n"
     ]
    },
    {
     "name": "stdout",
     "output_type": "stream",
     "text": [
      "Now dealing with T = 0.7000000000000001...\n"
     ]
    },
    {
     "name": "stderr",
     "output_type": "stream",
     "text": [
      "Begin to solve AllenCahn \n",
      "Y0_true: -7.4077e-01\n",
      "relative error of Y0: nan%\n",
      "Logs are saved in /home/nguwijy/deep_branching_with_domain/notebooks/logs/tmp\n"
     ]
    },
    {
     "name": "stdout",
     "output_type": "stream",
     "text": [
      "Now dealing with T = 0.7500000000000001...\n"
     ]
    },
    {
     "name": "stderr",
     "output_type": "stream",
     "text": [
      "Begin to solve AllenCahn \n",
      "Y0_true: -7.5491e-01\n",
      "relative error of Y0: -42.55%\n",
      "Logs are saved in /home/nguwijy/deep_branching_with_domain/notebooks/logs/tmp\n"
     ]
    },
    {
     "name": "stdout",
     "output_type": "stream",
     "text": [
      "Now dealing with T = 0.8...\n"
     ]
    },
    {
     "name": "stderr",
     "output_type": "stream",
     "text": [
      "Begin to solve AllenCahn \n",
      "Y0_true: -7.6852e-01\n",
      "relative error of Y0: nan%\n",
      "Logs are saved in /home/nguwijy/deep_branching_with_domain/notebooks/logs/tmp\n"
     ]
    },
    {
     "name": "stdout",
     "output_type": "stream",
     "text": [
      "Now dealing with T = 0.8500000000000001...\n"
     ]
    },
    {
     "name": "stderr",
     "output_type": "stream",
     "text": [
      "Begin to solve AllenCahn \n",
      "Y0_true: -7.8160e-01\n",
      "relative error of Y0: nan%\n",
      "Logs are saved in /home/nguwijy/deep_branching_with_domain/notebooks/logs/tmp\n"
     ]
    },
    {
     "name": "stdout",
     "output_type": "stream",
     "text": [
      "Now dealing with T = 0.9000000000000001...\n"
     ]
    },
    {
     "name": "stderr",
     "output_type": "stream",
     "text": [
      "Begin to solve AllenCahn \n",
      "Y0_true: -7.9413e-01\n",
      "relative error of Y0: nan%\n",
      "Logs are saved in /home/nguwijy/deep_branching_with_domain/notebooks/logs/tmp\n"
     ]
    },
    {
     "name": "stdout",
     "output_type": "stream",
     "text": [
      "Now dealing with T = 0.9500000000000001...\n"
     ]
    },
    {
     "name": "stderr",
     "output_type": "stream",
     "text": [
      "Begin to solve AllenCahn \n",
      "Y0_true: -8.0612e-01\n",
      "relative error of Y0: nan%\n",
      "Logs are saved in /home/nguwijy/deep_branching_with_domain/notebooks/logs/tmp\n"
     ]
    },
    {
     "name": "stdout",
     "output_type": "stream",
     "text": [
      "Now dealing with T = 1.0...\n"
     ]
    },
    {
     "name": "stderr",
     "output_type": "stream",
     "text": [
      "Begin to solve AllenCahn \n",
      "Y0_true: -8.1757e-01\n",
      "relative error of Y0: nan%\n",
      "Logs are saved in /home/nguwijy/deep_branching_with_domain/notebooks/logs/tmp\n"
     ]
    },
    {
     "name": "stdout",
     "output_type": "stream",
     "text": [
      "Now dealing with T = 1.05...\n"
     ]
    },
    {
     "name": "stderr",
     "output_type": "stream",
     "text": [
      "Begin to solve AllenCahn \n",
      "Y0_true: -8.2850e-01\n",
      "relative error of Y0: nan%\n",
      "Logs are saved in /home/nguwijy/deep_branching_with_domain/notebooks/logs/tmp\n"
     ]
    },
    {
     "name": "stdout",
     "output_type": "stream",
     "text": [
      "Now dealing with T = 1.1...\n"
     ]
    },
    {
     "name": "stderr",
     "output_type": "stream",
     "text": [
      "Begin to solve AllenCahn \n",
      "Y0_true: -8.3889e-01\n",
      "relative error of Y0: nan%\n",
      "Logs are saved in /home/nguwijy/deep_branching_with_domain/notebooks/logs/tmp\n"
     ]
    },
    {
     "name": "stdout",
     "output_type": "stream",
     "text": [
      "Now dealing with T = 1.1500000000000001...\n"
     ]
    },
    {
     "name": "stderr",
     "output_type": "stream",
     "text": [
      "Begin to solve AllenCahn \n",
      "Y0_true: -8.4877e-01\n",
      "relative error of Y0: nan%\n",
      "Logs are saved in /home/nguwijy/deep_branching_with_domain/notebooks/logs/tmp\n"
     ]
    },
    {
     "name": "stdout",
     "output_type": "stream",
     "text": [
      "Now dealing with T = 1.2000000000000002...\n"
     ]
    },
    {
     "name": "stderr",
     "output_type": "stream",
     "text": [
      "Begin to solve AllenCahn \n",
      "Y0_true: -8.5815e-01\n",
      "relative error of Y0: nan%\n",
      "Logs are saved in /home/nguwijy/deep_branching_with_domain/notebooks/logs/tmp\n"
     ]
    },
    {
     "name": "stdout",
     "output_type": "stream",
     "text": [
      "Now dealing with T = 1.2500000000000002...\n"
     ]
    },
    {
     "name": "stderr",
     "output_type": "stream",
     "text": [
      "Begin to solve AllenCahn \n",
      "Y0_true: -8.6704e-01\n",
      "relative error of Y0: nan%\n",
      "Logs are saved in /home/nguwijy/deep_branching_with_domain/notebooks/logs/tmp\n"
     ]
    },
    {
     "name": "stdout",
     "output_type": "stream",
     "text": [
      "Now dealing with T = 1.3...\n"
     ]
    },
    {
     "name": "stderr",
     "output_type": "stream",
     "text": [
      "Begin to solve AllenCahn \n",
      "Y0_true: -8.7545e-01\n",
      "relative error of Y0: nan%\n",
      "Logs are saved in /home/nguwijy/deep_branching_with_domain/notebooks/logs/tmp\n"
     ]
    },
    {
     "name": "stdout",
     "output_type": "stream",
     "text": [
      "Now dealing with T = 1.35...\n"
     ]
    },
    {
     "name": "stderr",
     "output_type": "stream",
     "text": [
      "Begin to solve AllenCahn \n",
      "Y0_true: -8.8340e-01\n",
      "relative error of Y0: nan%\n",
      "Logs are saved in /home/nguwijy/deep_branching_with_domain/notebooks/logs/tmp\n"
     ]
    },
    {
     "name": "stdout",
     "output_type": "stream",
     "text": [
      "Now dealing with T = 1.4000000000000001...\n"
     ]
    },
    {
     "name": "stderr",
     "output_type": "stream",
     "text": [
      "Begin to solve AllenCahn \n",
      "Y0_true: -8.9090e-01\n",
      "relative error of Y0: nan%\n",
      "Logs are saved in /home/nguwijy/deep_branching_with_domain/notebooks/logs/tmp\n"
     ]
    },
    {
     "name": "stdout",
     "output_type": "stream",
     "text": [
      "Now dealing with T = 1.4500000000000002...\n"
     ]
    },
    {
     "name": "stderr",
     "output_type": "stream",
     "text": [
      "Begin to solve AllenCahn \n",
      "Y0_true: -8.9798e-01\n",
      "relative error of Y0: nan%\n",
      "Logs are saved in /home/nguwijy/deep_branching_with_domain/notebooks/logs/tmp\n"
     ]
    },
    {
     "name": "stdout",
     "output_type": "stream",
     "text": [
      "Now dealing with T = 1.5000000000000002...\n"
     ]
    },
    {
     "name": "stderr",
     "output_type": "stream",
     "text": [
      "Begin to solve AllenCahn \n",
      "Y0_true: -9.0465e-01\n",
      "relative error of Y0: nan%\n",
      "Logs are saved in /home/nguwijy/deep_branching_with_domain/notebooks/logs/tmp\n"
     ]
    },
    {
     "name": "stdout",
     "output_type": "stream",
     "text": [
      "Now dealing with T = 1.55...\n"
     ]
    },
    {
     "name": "stderr",
     "output_type": "stream",
     "text": [
      "Begin to solve AllenCahn \n",
      "Y0_true: -9.1093e-01\n",
      "relative error of Y0: nan%\n",
      "Logs are saved in /home/nguwijy/deep_branching_with_domain/notebooks/logs/tmp\n"
     ]
    },
    {
     "name": "stdout",
     "output_type": "stream",
     "text": [
      "Now dealing with T = 1.6...\n"
     ]
    },
    {
     "name": "stderr",
     "output_type": "stream",
     "text": [
      "Begin to solve AllenCahn \n",
      "Y0_true: -9.1683e-01\n",
      "relative error of Y0: nan%\n",
      "Logs are saved in /home/nguwijy/deep_branching_with_domain/notebooks/logs/tmp\n"
     ]
    },
    {
     "name": "stdout",
     "output_type": "stream",
     "text": [
      "Now dealing with T = 1.6500000000000001...\n"
     ]
    },
    {
     "name": "stderr",
     "output_type": "stream",
     "text": [
      "Begin to solve AllenCahn \n",
      "Y0_true: -9.2237e-01\n",
      "relative error of Y0: nan%\n",
      "Logs are saved in /home/nguwijy/deep_branching_with_domain/notebooks/logs/tmp\n"
     ]
    },
    {
     "name": "stdout",
     "output_type": "stream",
     "text": [
      "Now dealing with T = 1.7000000000000002...\n"
     ]
    },
    {
     "name": "stderr",
     "output_type": "stream",
     "text": [
      "Begin to solve AllenCahn \n",
      "Y0_true: -9.2757e-01\n",
      "relative error of Y0: nan%\n",
      "Logs are saved in /home/nguwijy/deep_branching_with_domain/notebooks/logs/tmp\n"
     ]
    },
    {
     "name": "stdout",
     "output_type": "stream",
     "text": [
      "Now dealing with T = 1.7500000000000002...\n"
     ]
    },
    {
     "name": "stderr",
     "output_type": "stream",
     "text": [
      "Begin to solve AllenCahn \n",
      "Y0_true: -9.3245e-01\n",
      "relative error of Y0: nan%\n",
      "Logs are saved in /home/nguwijy/deep_branching_with_domain/notebooks/logs/tmp\n"
     ]
    },
    {
     "name": "stdout",
     "output_type": "stream",
     "text": [
      "Now dealing with T = 1.8...\n"
     ]
    },
    {
     "name": "stderr",
     "output_type": "stream",
     "text": [
      "Begin to solve AllenCahn \n",
      "Y0_true: -9.3703e-01\n",
      "relative error of Y0: nan%\n",
      "Logs are saved in /home/nguwijy/deep_branching_with_domain/notebooks/logs/tmp\n"
     ]
    },
    {
     "name": "stdout",
     "output_type": "stream",
     "text": [
      "Now dealing with T = 1.85...\n"
     ]
    },
    {
     "name": "stderr",
     "output_type": "stream",
     "text": [
      "Begin to solve AllenCahn \n",
      "Y0_true: -9.4131e-01\n",
      "relative error of Y0: nan%\n",
      "Logs are saved in /home/nguwijy/deep_branching_with_domain/notebooks/logs/tmp\n"
     ]
    },
    {
     "name": "stdout",
     "output_type": "stream",
     "text": [
      "Now dealing with T = 1.9000000000000001...\n"
     ]
    },
    {
     "name": "stderr",
     "output_type": "stream",
     "text": [
      "Begin to solve AllenCahn \n",
      "Y0_true: -9.4532e-01\n",
      "relative error of Y0: nan%\n",
      "Logs are saved in /home/nguwijy/deep_branching_with_domain/notebooks/logs/tmp\n"
     ]
    },
    {
     "name": "stdout",
     "output_type": "stream",
     "text": [
      "Now dealing with T = 1.9500000000000002...\n"
     ]
    },
    {
     "name": "stderr",
     "output_type": "stream",
     "text": [
      "Begin to solve AllenCahn \n",
      "Y0_true: -9.4907e-01\n",
      "relative error of Y0: nan%\n",
      "Logs are saved in /home/nguwijy/deep_branching_with_domain/notebooks/logs/tmp\n"
     ]
    },
    {
     "name": "stdout",
     "output_type": "stream",
     "text": [
      "Now dealing with T = 2.0...\n"
     ]
    },
    {
     "name": "stderr",
     "output_type": "stream",
     "text": [
      "Begin to solve AllenCahn \n",
      "Y0_true: -9.5257e-01\n",
      "relative error of Y0: nan%\n"
     ]
    }
   ],
   "source": [
    "fixed_dim, dim = 0, 1\n",
    "\n",
    "problem_name = f\"allen_cahn_jeeq_dim_{dim}_blow_up_analysis\"\n",
    "\n",
    "# function definition\n",
    "deriv_map = np.array([0] * dim).reshape(-1, dim)\n",
    "def f_example(y, coordinate=0):\n",
    "    \"\"\"\n",
    "    idx 0 -> no deriv\n",
    "    \"\"\"\n",
    "    return y[0] - y[0] ** 3\n",
    "\n",
    "def phi_example(x, coordinate=0):\n",
    "    return -0.5 - 0.5 * torch.nn.Tanh()(-.5 * x.sum(dim=0) / math.sqrt(dim))\n",
    "\n",
    "def exact_example(t, x, T, coordinate=0):\n",
    "    return -0.5 - 0.5 * np.tanh(-.5*x.sum(axis=0)/math.sqrt(dim) + 3*(T-t)/4)\n",
    "\n",
    "delta_t = 0.05\n",
    "T_arr = np.arange(delta_t, 2 + delta_t, delta_t)\n",
    "df = blow_up_analysis(\n",
    "    T_arr=T_arr,\n",
    "    dim=dim,\n",
    "    problem_name=problem_name,\n",
    "    deriv_map=deriv_map,\n",
    "    f_example=f_example,\n",
    "    phi_example=phi_example,\n",
    "    exact_example=exact_example\n",
    ")"
   ]
  },
  {
   "cell_type": "code",
   "execution_count": 7,
   "id": "a91427a5",
   "metadata": {},
   "outputs": [
    {
     "name": "stdout",
     "output_type": "stream",
     "text": [
      "       T    branch  deep_bsde     exact  branch time (seconds)  \\\n",
      "0   0.05 -0.518763  -0.518755 -0.518741               0.430089   \n",
      "1   0.10 -0.537451  -0.537470 -0.537430               0.388862   \n",
      "2   0.15 -0.556087  -0.555978 -0.556014               0.389804   \n",
      "3   0.20 -0.574662  -0.574581 -0.574443               0.394931   \n",
      "4   0.25 -0.593174  -0.592855 -0.592667               0.422510   \n",
      "5   0.30 -0.611628  -0.643579 -0.610639               0.415546   \n",
      "6   0.35 -0.630032  -0.628587 -0.628316               0.382593   \n",
      "7   0.40 -0.648401  -0.645983 -0.645656               0.396060   \n",
      "8   0.45 -0.666749  -0.811361 -0.662622               0.396046   \n",
      "9   0.50 -0.685096  -0.679532 -0.679179               0.459138   \n",
      "10  0.55 -0.703461  -0.695500 -0.695297               0.412431   \n",
      "11  0.60 -0.721866  -0.270275 -0.710950               0.390670   \n",
      "12  0.65 -0.740331        NaN -0.726115               0.382030   \n",
      "13  0.70 -0.758880        NaN -0.740775               0.380407   \n",
      "14  0.75 -0.777534  -0.433701 -0.754915               0.388922   \n",
      "15  0.80 -0.796317        NaN -0.768525               0.384998   \n",
      "16  0.85 -0.822136        NaN -0.781597               0.403080   \n",
      "17  0.90 -0.842476        NaN -0.794130               0.381501   \n",
      "18  0.95 -0.863144        NaN -0.806121               0.385275   \n",
      "19  1.00 -0.884167        NaN -0.817574               0.380351   \n",
      "20  1.05 -0.896673        NaN -0.828495               0.383039   \n",
      "21  1.10 -0.907775        NaN -0.838891               0.380624   \n",
      "22  1.15 -0.926784        NaN -0.848772               0.389818   \n",
      "23  1.20 -0.945912        NaN -0.858149               0.382879   \n",
      "24  1.25 -0.965169        NaN -0.867036               0.382224   \n",
      "25  1.30 -0.984563        NaN -0.875447               0.384361   \n",
      "26  1.35 -1.004103        NaN -0.883397               0.386840   \n",
      "27  1.40 -1.023799        NaN -0.890903               0.387900   \n",
      "28  1.45 -1.043659        NaN -0.897982               0.389051   \n",
      "29  1.50 -1.063690        NaN -0.904651               0.385533   \n",
      "30  1.55 -1.083902        NaN -0.910926               0.385672   \n",
      "31  1.60 -1.104303        NaN -0.916827               0.391533   \n",
      "32  1.65 -1.111882        NaN -0.922371               0.389050   \n",
      "33  1.70 -1.118387        NaN -0.927574               0.385824   \n",
      "34  1.75 -1.136814        NaN -0.932453               0.389656   \n",
      "35  1.80 -1.155304        NaN -0.937027               0.388376   \n",
      "36  1.85 -1.159131        NaN -0.941310               0.388098   \n",
      "37  1.90 -1.161207        NaN -0.945319               0.397234   \n",
      "38  1.95 -1.177317        NaN -0.949069               0.385603   \n",
      "39  2.00 -1.193363        NaN -0.952574               0.386462   \n",
      "\n",
      "    deep_bsde time (seconds)  \n",
      "0                  46.860543  \n",
      "1                  43.955848  \n",
      "2                  44.893774  \n",
      "3                  46.416872  \n",
      "4                  46.619696  \n",
      "5                  48.298150  \n",
      "6                  47.384679  \n",
      "7                  47.845959  \n",
      "8                  49.631549  \n",
      "9                  48.320855  \n",
      "10                 46.259802  \n",
      "11                 45.365618  \n",
      "12                 44.861241  \n",
      "13                 44.830042  \n",
      "14                 46.170454  \n",
      "15                 46.086571  \n",
      "16                 45.592158  \n",
      "17                 46.078894  \n",
      "18                 45.294750  \n",
      "19                 45.388014  \n",
      "20                 45.751583  \n",
      "21                 45.469995  \n",
      "22                 45.443016  \n",
      "23                 45.662030  \n",
      "24                 45.453230  \n",
      "25                 46.095470  \n",
      "26                 45.621448  \n",
      "27                 45.059897  \n",
      "28                 45.432848  \n",
      "29                 45.204672  \n",
      "30                 45.507322  \n",
      "31                 45.531741  \n",
      "32                 45.457650  \n",
      "33                 45.686574  \n",
      "34                 45.813037  \n",
      "35                 45.623258  \n",
      "36                 45.535035  \n",
      "37                 45.864357  \n",
      "38                 45.753856  \n",
      "39                 45.509385  \n"
     ]
    },
    {
     "data": {
      "text/plain": [
       "<AxesSubplot:xlabel='T'>"
      ]
     },
     "execution_count": 7,
     "metadata": {},
     "output_type": "execute_result"
    },
    {
     "data": {
      "image/png": "[encoded data removed]",
      "text/plain": [
       "<Figure size 640x480 with 1 Axes>"
      ]
     },
     "metadata": {},
     "output_type": "display_data"
    }
   ],
   "source": [
    "print(df)\n",
    "df.plot(x='T', y=['branch', 'deep_bsde', 'exact'])"
   ]
  },
  {
   "cell_type": "markdown",
   "id": "7c84bfb4",
   "metadata": {},
   "source": [
    "### Dimension d = 10"
   ]
  },
  {
   "cell_type": "code",
   "execution_count": 8,
   "id": "4996fcef",
   "metadata": {
    "scrolled": true
   },
   "outputs": [
    {
     "name": "stderr",
     "output_type": "stream",
     "text": [
      "Logs are saved in /home/nguwijy/deep_branching_with_domain/notebooks/logs/tmp\n"
     ]
    },
    {
     "name": "stdout",
     "output_type": "stream",
     "text": [
      "Now dealing with T = 0.05...\n"
     ]
    },
    {
     "name": "stderr",
     "output_type": "stream",
     "text": [
      "Begin to solve AllenCahn \n",
      "Y0_true: -5.1874e-01\n",
      "relative error of Y0: -0.05%\n",
      "Logs are saved in /home/nguwijy/deep_branching_with_domain/notebooks/logs/tmp\n"
     ]
    },
    {
     "name": "stdout",
     "output_type": "stream",
     "text": [
      "Now dealing with T = 0.1...\n"
     ]
    },
    {
     "name": "stderr",
     "output_type": "stream",
     "text": [
      "Begin to solve AllenCahn \n",
      "Y0_true: -5.3743e-01\n",
      "relative error of Y0: -0.01%\n",
      "Logs are saved in /home/nguwijy/deep_branching_with_domain/notebooks/logs/tmp\n"
     ]
    },
    {
     "name": "stdout",
     "output_type": "stream",
     "text": [
      "Now dealing with T = 0.15000000000000002...\n"
     ]
    },
    {
     "name": "stderr",
     "output_type": "stream",
     "text": [
      "Begin to solve AllenCahn \n",
      "Y0_true: -5.5601e-01\n",
      "relative error of Y0: -0.18%\n",
      "Logs are saved in /home/nguwijy/deep_branching_with_domain/notebooks/logs/tmp\n"
     ]
    },
    {
     "name": "stdout",
     "output_type": "stream",
     "text": [
      "Now dealing with T = 0.2...\n"
     ]
    },
    {
     "name": "stderr",
     "output_type": "stream",
     "text": [
      "Begin to solve AllenCahn \n",
      "Y0_true: -5.7444e-01\n",
      "relative error of Y0: -0.31%\n",
      "Logs are saved in /home/nguwijy/deep_branching_with_domain/notebooks/logs/tmp\n"
     ]
    },
    {
     "name": "stdout",
     "output_type": "stream",
     "text": [
      "Now dealing with T = 0.25...\n"
     ]
    },
    {
     "name": "stderr",
     "output_type": "stream",
     "text": [
      "Begin to solve AllenCahn \n",
      "Y0_true: -5.9267e-01\n",
      "relative error of Y0: -0.19%\n",
      "Logs are saved in /home/nguwijy/deep_branching_with_domain/notebooks/logs/tmp\n"
     ]
    },
    {
     "name": "stdout",
     "output_type": "stream",
     "text": [
      "Now dealing with T = 0.3...\n"
     ]
    },
    {
     "name": "stderr",
     "output_type": "stream",
     "text": [
      "Begin to solve AllenCahn \n",
      "Y0_true: -6.1064e-01\n",
      "relative error of Y0: -0.46%\n",
      "Logs are saved in /home/nguwijy/deep_branching_with_domain/notebooks/logs/tmp\n"
     ]
    },
    {
     "name": "stdout",
     "output_type": "stream",
     "text": [
      "Now dealing with T = 0.35000000000000003...\n"
     ]
    },
    {
     "name": "stderr",
     "output_type": "stream",
     "text": [
      "Begin to solve AllenCahn \n",
      "Y0_true: -6.2832e-01\n",
      "relative error of Y0: -0.44%\n",
      "Logs are saved in /home/nguwijy/deep_branching_with_domain/notebooks/logs/tmp\n"
     ]
    },
    {
     "name": "stdout",
     "output_type": "stream",
     "text": [
      "Now dealing with T = 0.4...\n"
     ]
    },
    {
     "name": "stderr",
     "output_type": "stream",
     "text": [
      "Begin to solve AllenCahn \n",
      "Y0_true: -6.4566e-01\n",
      "relative error of Y0: -0.82%\n",
      "Logs are saved in /home/nguwijy/deep_branching_with_domain/notebooks/logs/tmp\n"
     ]
    },
    {
     "name": "stdout",
     "output_type": "stream",
     "text": [
      "Now dealing with T = 0.45...\n"
     ]
    },
    {
     "name": "stderr",
     "output_type": "stream",
     "text": [
      "Begin to solve AllenCahn \n",
      "Y0_true: -6.6262e-01\n",
      "relative error of Y0: -0.79%\n",
      "Logs are saved in /home/nguwijy/deep_branching_with_domain/notebooks/logs/tmp\n"
     ]
    },
    {
     "name": "stdout",
     "output_type": "stream",
     "text": [
      "Now dealing with T = 0.5...\n"
     ]
    },
    {
     "name": "stderr",
     "output_type": "stream",
     "text": [
      "Begin to solve AllenCahn \n",
      "Y0_true: -6.7918e-01\n",
      "relative error of Y0: -1.17%\n",
      "Logs are saved in /home/nguwijy/deep_branching_with_domain/notebooks/logs/tmp\n"
     ]
    },
    {
     "name": "stdout",
     "output_type": "stream",
     "text": [
      "Now dealing with T = 0.55...\n"
     ]
    },
    {
     "name": "stderr",
     "output_type": "stream",
     "text": [
      "Begin to solve AllenCahn \n",
      "Y0_true: -6.9530e-01\n",
      "relative error of Y0: -0.51%\n",
      "Logs are saved in /home/nguwijy/deep_branching_with_domain/notebooks/logs/tmp\n"
     ]
    },
    {
     "name": "stdout",
     "output_type": "stream",
     "text": [
      "Now dealing with T = 0.6000000000000001...\n"
     ]
    },
    {
     "name": "stderr",
     "output_type": "stream",
     "text": [
      "Begin to solve AllenCahn \n",
      "Y0_true: -7.1095e-01\n",
      "relative error of Y0: -0.72%\n",
      "Logs are saved in /home/nguwijy/deep_branching_with_domain/notebooks/logs/tmp\n"
     ]
    },
    {
     "name": "stdout",
     "output_type": "stream",
     "text": [
      "Now dealing with T = 0.6500000000000001...\n"
     ]
    },
    {
     "name": "stderr",
     "output_type": "stream",
     "text": [
      "Begin to solve AllenCahn \n",
      "Y0_true: -7.2611e-01\n",
      "relative error of Y0: -0.80%\n",
      "Logs are saved in /home/nguwijy/deep_branching_with_domain/notebooks/logs/tmp\n"
     ]
    },
    {
     "name": "stdout",
     "output_type": "stream",
     "text": [
      "Now dealing with T = 0.7000000000000001...\n"
     ]
    },
    {
     "name": "stderr",
     "output_type": "stream",
     "text": [
      "Begin to solve AllenCahn \n",
      "Y0_true: -7.4077e-01\n",
      "relative error of Y0: -0.94%\n",
      "Logs are saved in /home/nguwijy/deep_branching_with_domain/notebooks/logs/tmp\n"
     ]
    },
    {
     "name": "stdout",
     "output_type": "stream",
     "text": [
      "Now dealing with T = 0.7500000000000001...\n"
     ]
    },
    {
     "name": "stderr",
     "output_type": "stream",
     "text": [
      "Begin to solve AllenCahn \n",
      "Y0_true: -7.5491e-01\n",
      "relative error of Y0: -0.75%\n",
      "Logs are saved in /home/nguwijy/deep_branching_with_domain/notebooks/logs/tmp\n"
     ]
    },
    {
     "name": "stdout",
     "output_type": "stream",
     "text": [
      "Now dealing with T = 0.8...\n"
     ]
    },
    {
     "name": "stderr",
     "output_type": "stream",
     "text": [
      "Begin to solve AllenCahn \n",
      "Y0_true: -7.6852e-01\n",
      "relative error of Y0: -0.78%\n",
      "Logs are saved in /home/nguwijy/deep_branching_with_domain/notebooks/logs/tmp\n"
     ]
    },
    {
     "name": "stdout",
     "output_type": "stream",
     "text": [
      "Now dealing with T = 0.8500000000000001...\n"
     ]
    },
    {
     "name": "stderr",
     "output_type": "stream",
     "text": [
      "Begin to solve AllenCahn \n",
      "Y0_true: -7.8160e-01\n",
      "relative error of Y0: -0.94%\n",
      "Logs are saved in /home/nguwijy/deep_branching_with_domain/notebooks/logs/tmp\n"
     ]
    },
    {
     "name": "stdout",
     "output_type": "stream",
     "text": [
      "Now dealing with T = 0.9000000000000001...\n"
     ]
    },
    {
     "name": "stderr",
     "output_type": "stream",
     "text": [
      "Begin to solve AllenCahn \n",
      "Y0_true: -7.9413e-01\n",
      "relative error of Y0: -1.21%\n",
      "Logs are saved in /home/nguwijy/deep_branching_with_domain/notebooks/logs/tmp\n"
     ]
    },
    {
     "name": "stdout",
     "output_type": "stream",
     "text": [
      "Now dealing with T = 0.9500000000000001...\n"
     ]
    },
    {
     "name": "stderr",
     "output_type": "stream",
     "text": [
      "Begin to solve AllenCahn \n",
      "Y0_true: -8.0612e-01\n",
      "relative error of Y0: -1.20%\n",
      "Logs are saved in /home/nguwijy/deep_branching_with_domain/notebooks/logs/tmp\n"
     ]
    },
    {
     "name": "stdout",
     "output_type": "stream",
     "text": [
      "Now dealing with T = 1.0...\n"
     ]
    },
    {
     "name": "stderr",
     "output_type": "stream",
     "text": [
      "Begin to solve AllenCahn \n",
      "Y0_true: -8.1757e-01\n",
      "relative error of Y0: -1.21%\n",
      "Logs are saved in /home/nguwijy/deep_branching_with_domain/notebooks/logs/tmp\n"
     ]
    },
    {
     "name": "stdout",
     "output_type": "stream",
     "text": [
      "Now dealing with T = 1.05...\n"
     ]
    },
    {
     "name": "stderr",
     "output_type": "stream",
     "text": [
      "Begin to solve AllenCahn \n",
      "Y0_true: -8.2850e-01\n",
      "relative error of Y0: -19.42%\n",
      "Logs are saved in /home/nguwijy/deep_branching_with_domain/notebooks/logs/tmp\n"
     ]
    },
    {
     "name": "stdout",
     "output_type": "stream",
     "text": [
      "Now dealing with T = 1.1...\n"
     ]
    },
    {
     "name": "stderr",
     "output_type": "stream",
     "text": [
      "Begin to solve AllenCahn \n",
      "Y0_true: -8.3889e-01\n",
      "relative error of Y0: -1.61%\n",
      "Logs are saved in /home/nguwijy/deep_branching_with_domain/notebooks/logs/tmp\n"
     ]
    },
    {
     "name": "stdout",
     "output_type": "stream",
     "text": [
      "Now dealing with T = 1.1500000000000001...\n"
     ]
    },
    {
     "name": "stderr",
     "output_type": "stream",
     "text": [
      "Begin to solve AllenCahn \n",
      "Y0_true: -8.4877e-01\n",
      "relative error of Y0: -1.06%\n",
      "Logs are saved in /home/nguwijy/deep_branching_with_domain/notebooks/logs/tmp\n"
     ]
    },
    {
     "name": "stdout",
     "output_type": "stream",
     "text": [
      "Now dealing with T = 1.2000000000000002...\n"
     ]
    },
    {
     "name": "stderr",
     "output_type": "stream",
     "text": [
      "Begin to solve AllenCahn \n",
      "Y0_true: -8.5815e-01\n",
      "relative error of Y0: -0.79%\n",
      "Logs are saved in /home/nguwijy/deep_branching_with_domain/notebooks/logs/tmp\n"
     ]
    },
    {
     "name": "stdout",
     "output_type": "stream",
     "text": [
      "Now dealing with T = 1.2500000000000002...\n"
     ]
    },
    {
     "name": "stderr",
     "output_type": "stream",
     "text": [
      "Begin to solve AllenCahn \n",
      "Y0_true: -8.6704e-01\n",
      "relative error of Y0: -29.32%\n",
      "Logs are saved in /home/nguwijy/deep_branching_with_domain/notebooks/logs/tmp\n"
     ]
    },
    {
     "name": "stdout",
     "output_type": "stream",
     "text": [
      "Now dealing with T = 1.3...\n"
     ]
    },
    {
     "name": "stderr",
     "output_type": "stream",
     "text": [
      "Begin to solve AllenCahn \n",
      "Y0_true: -8.7545e-01\n",
      "relative error of Y0: -11.31%\n",
      "Logs are saved in /home/nguwijy/deep_branching_with_domain/notebooks/logs/tmp\n"
     ]
    },
    {
     "name": "stdout",
     "output_type": "stream",
     "text": [
      "Now dealing with T = 1.35...\n"
     ]
    },
    {
     "name": "stderr",
     "output_type": "stream",
     "text": [
      "Begin to solve AllenCahn \n",
      "Y0_true: -8.8340e-01\n",
      "relative error of Y0: nan%\n",
      "Logs are saved in /home/nguwijy/deep_branching_with_domain/notebooks/logs/tmp\n"
     ]
    },
    {
     "name": "stdout",
     "output_type": "stream",
     "text": [
      "Now dealing with T = 1.4000000000000001...\n"
     ]
    },
    {
     "name": "stderr",
     "output_type": "stream",
     "text": [
      "Begin to solve AllenCahn \n",
      "Y0_true: -8.9090e-01\n",
      "relative error of Y0: nan%\n",
      "Logs are saved in /home/nguwijy/deep_branching_with_domain/notebooks/logs/tmp\n"
     ]
    },
    {
     "name": "stdout",
     "output_type": "stream",
     "text": [
      "Now dealing with T = 1.4500000000000002...\n"
     ]
    },
    {
     "name": "stderr",
     "output_type": "stream",
     "text": [
      "Begin to solve AllenCahn \n",
      "Y0_true: -8.9798e-01\n",
      "relative error of Y0: -22.79%\n",
      "Logs are saved in /home/nguwijy/deep_branching_with_domain/notebooks/logs/tmp\n"
     ]
    },
    {
     "name": "stdout",
     "output_type": "stream",
     "text": [
      "Now dealing with T = 1.5000000000000002...\n"
     ]
    },
    {
     "name": "stderr",
     "output_type": "stream",
     "text": [
      "Begin to solve AllenCahn \n",
      "Y0_true: -9.0465e-01\n",
      "relative error of Y0: nan%\n",
      "Logs are saved in /home/nguwijy/deep_branching_with_domain/notebooks/logs/tmp\n"
     ]
    },
    {
     "name": "stdout",
     "output_type": "stream",
     "text": [
      "Now dealing with T = 1.55...\n"
     ]
    },
    {
     "name": "stderr",
     "output_type": "stream",
     "text": [
      "Begin to solve AllenCahn \n",
      "Y0_true: -9.1093e-01\n",
      "relative error of Y0: nan%\n",
      "Logs are saved in /home/nguwijy/deep_branching_with_domain/notebooks/logs/tmp\n"
     ]
    },
    {
     "name": "stdout",
     "output_type": "stream",
     "text": [
      "Now dealing with T = 1.6...\n"
     ]
    },
    {
     "name": "stderr",
     "output_type": "stream",
     "text": [
      "Begin to solve AllenCahn \n",
      "Y0_true: -9.1683e-01\n",
      "relative error of Y0: nan%\n",
      "Logs are saved in /home/nguwijy/deep_branching_with_domain/notebooks/logs/tmp\n"
     ]
    },
    {
     "name": "stdout",
     "output_type": "stream",
     "text": [
      "Now dealing with T = 1.6500000000000001...\n"
     ]
    },
    {
     "name": "stderr",
     "output_type": "stream",
     "text": [
      "Begin to solve AllenCahn \n",
      "Y0_true: -9.2237e-01\n",
      "relative error of Y0: nan%\n",
      "Logs are saved in /home/nguwijy/deep_branching_with_domain/notebooks/logs/tmp\n"
     ]
    },
    {
     "name": "stdout",
     "output_type": "stream",
     "text": [
      "Now dealing with T = 1.7000000000000002...\n"
     ]
    },
    {
     "name": "stderr",
     "output_type": "stream",
     "text": [
      "Begin to solve AllenCahn \n",
      "Y0_true: -9.2757e-01\n",
      "relative error of Y0: nan%\n",
      "Logs are saved in /home/nguwijy/deep_branching_with_domain/notebooks/logs/tmp\n"
     ]
    },
    {
     "name": "stdout",
     "output_type": "stream",
     "text": [
      "Now dealing with T = 1.7500000000000002...\n"
     ]
    },
    {
     "name": "stderr",
     "output_type": "stream",
     "text": [
      "Begin to solve AllenCahn \n",
      "Y0_true: -9.3245e-01\n",
      "relative error of Y0: nan%\n",
      "Logs are saved in /home/nguwijy/deep_branching_with_domain/notebooks/logs/tmp\n"
     ]
    },
    {
     "name": "stdout",
     "output_type": "stream",
     "text": [
      "Now dealing with T = 1.8...\n"
     ]
    },
    {
     "name": "stderr",
     "output_type": "stream",
     "text": [
      "Begin to solve AllenCahn \n",
      "Y0_true: -9.3703e-01\n",
      "relative error of Y0: nan%\n",
      "Logs are saved in /home/nguwijy/deep_branching_with_domain/notebooks/logs/tmp\n"
     ]
    },
    {
     "name": "stdout",
     "output_type": "stream",
     "text": [
      "Now dealing with T = 1.85...\n"
     ]
    },
    {
     "name": "stderr",
     "output_type": "stream",
     "text": [
      "Begin to solve AllenCahn \n",
      "Y0_true: -9.4131e-01\n",
      "relative error of Y0: nan%\n",
      "Logs are saved in /home/nguwijy/deep_branching_with_domain/notebooks/logs/tmp\n"
     ]
    },
    {
     "name": "stdout",
     "output_type": "stream",
     "text": [
      "Now dealing with T = 1.9000000000000001...\n"
     ]
    },
    {
     "name": "stderr",
     "output_type": "stream",
     "text": [
      "Begin to solve AllenCahn \n",
      "Y0_true: -9.4532e-01\n",
      "relative error of Y0: nan%\n",
      "Logs are saved in /home/nguwijy/deep_branching_with_domain/notebooks/logs/tmp\n"
     ]
    },
    {
     "name": "stdout",
     "output_type": "stream",
     "text": [
      "Now dealing with T = 1.9500000000000002...\n"
     ]
    },
    {
     "name": "stderr",
     "output_type": "stream",
     "text": [
      "Begin to solve AllenCahn \n",
      "Y0_true: -9.4907e-01\n",
      "relative error of Y0: -19.36%\n",
      "Logs are saved in /home/nguwijy/deep_branching_with_domain/notebooks/logs/tmp\n"
     ]
    },
    {
     "name": "stdout",
     "output_type": "stream",
     "text": [
      "Now dealing with T = 2.0...\n"
     ]
    },
    {
     "name": "stderr",
     "output_type": "stream",
     "text": [
      "Begin to solve AllenCahn \n",
      "Y0_true: -9.5257e-01\n",
      "relative error of Y0: nan%\n"
     ]
    }
   ],
   "source": [
    "fixed_dim, dim = 0, 10\n",
    "\n",
    "problem_name = f\"allen_cahn_jeeq_dim_{dim}_blow_up_analysis\"\n",
    "\n",
    "# function definition\n",
    "deriv_map = np.array([0] * dim).reshape(-1, dim)\n",
    "def f_example(y, coordinate=0):\n",
    "    \"\"\"\n",
    "    idx 0 -> no deriv\n",
    "    \"\"\"\n",
    "    return y[0] - y[0] ** 3\n",
    "\n",
    "def phi_example(x, coordinate=0):\n",
    "    return -0.5 - 0.5 * torch.nn.Tanh()(-.5 * x.sum(dim=0) / math.sqrt(dim))\n",
    "\n",
    "def exact_example(t, x, T, coordinate=0):\n",
    "    return -0.5 - 0.5 * np.tanh(-.5*x.sum(axis=0)/math.sqrt(dim) + 3*(T-t)/4)\n",
    "\n",
    "delta_t = 0.05\n",
    "T_arr = np.arange(delta_t, 2 + delta_t, delta_t)\n",
    "df = blow_up_analysis(\n",
    "    T_arr=T_arr,\n",
    "    dim=dim,\n",
    "    problem_name=problem_name,\n",
    "    deriv_map=deriv_map,\n",
    "    f_example=f_example,\n",
    "    phi_example=phi_example,\n",
    "    exact_example=exact_example\n",
    ")"
   ]
  },
  {
   "cell_type": "code",
   "execution_count": 9,
   "id": "41aed4a3",
   "metadata": {},
   "outputs": [
    {
     "name": "stdout",
     "output_type": "stream",
     "text": [
      "       T    branch  deep_bsde     exact  branch time (seconds)  \\\n",
      "0   0.05 -0.518721  -0.518489 -0.518741               1.623524   \n",
      "1   0.10 -0.537461  -0.537498 -0.537430               1.522849   \n",
      "2   0.15 -0.556161  -0.556991 -0.556014               1.506693   \n",
      "3   0.20 -0.574776  -0.576216 -0.574443               1.556297   \n",
      "4   0.25 -0.593257  -0.593816 -0.592667               1.505259   \n",
      "5   0.30 -0.611551  -0.613429 -0.610639               1.505652   \n",
      "6   0.35 -0.629605  -0.631050 -0.628316               1.502957   \n",
      "7   0.40 -0.647364  -0.650975 -0.645656               1.506912   \n",
      "8   0.45 -0.664775  -0.667880 -0.662622               1.528547   \n",
      "9   0.50 -0.686718  -0.687120 -0.679179               1.506093   \n",
      "10  0.55 -0.705420  -0.698844 -0.695297               1.510978   \n",
      "11  0.60 -0.724209  -0.716092 -0.710950               1.507232   \n",
      "12  0.65 -0.743122  -0.731942 -0.726115               1.512470   \n",
      "13  0.70 -0.762200  -0.747740 -0.740775               1.509127   \n",
      "14  0.75 -0.781489  -0.760547 -0.754915               1.522362   \n",
      "15  0.80 -0.801041  -0.774551 -0.768525               1.527235   \n",
      "16  0.85 -0.813773  -0.788940 -0.781597               1.532017   \n",
      "17  0.90 -0.832180  -0.803711 -0.794130               1.506053   \n",
      "18  0.95 -0.858116  -0.815824 -0.806121               1.519736   \n",
      "19  1.00 -0.878138  -0.827461 -0.817574               1.513015   \n",
      "20  1.05 -0.898540  -0.667570 -0.828495               1.510546   \n",
      "21  1.10 -0.910186  -0.852384 -0.838891               1.504446   \n",
      "22  1.15 -0.928963  -0.857777 -0.848772               1.507534   \n",
      "23  1.20 -0.947786  -0.864921 -0.858149               1.518664   \n",
      "24  1.25 -0.956610  -0.612795 -0.867036               1.515380   \n",
      "25  1.30 -0.974421  -0.776394 -0.875447               1.515927   \n",
      "26  1.35 -0.992222        NaN -0.883397               1.524088   \n",
      "27  1.40 -1.010017        NaN -0.890903               1.518565   \n",
      "28  1.45 -1.016547  -0.693350 -0.897982               1.504861   \n",
      "29  1.50 -1.032898        NaN -0.904651               1.531602   \n",
      "30  1.55 -1.049132        NaN -0.910926               1.514143   \n",
      "31  1.60 -1.065247        NaN -0.916827               1.514503   \n",
      "32  1.65 -1.081243        NaN -0.922371               1.505485   \n",
      "33  1.70 -1.097119        NaN -0.927574               1.499622   \n",
      "34  1.75 -1.112873        NaN -0.932453               1.528147   \n",
      "35  1.80 -1.128504        NaN -0.937027               1.506276   \n",
      "36  1.85 -1.144012        NaN -0.941310               1.528776   \n",
      "37  1.90 -1.159395        NaN -0.945319               1.509438   \n",
      "38  1.95 -1.174652  -0.765333 -0.949069               1.528235   \n",
      "39  2.00 -1.189783        NaN -0.952574               1.506202   \n",
      "\n",
      "    deep_bsde time (seconds)  \n",
      "0                  47.933725  \n",
      "1                  47.742537  \n",
      "2                  48.447462  \n",
      "3                  47.596416  \n",
      "4                  47.980959  \n",
      "5                  47.837956  \n",
      "6                  48.219609  \n",
      "7                  48.464557  \n",
      "8                  47.163698  \n",
      "9                  47.819035  \n",
      "10                 47.485706  \n",
      "11                 48.188446  \n",
      "12                 47.828786  \n",
      "13                 47.517165  \n",
      "14                 47.964496  \n",
      "15                 48.355676  \n",
      "16                 48.010677  \n",
      "17                 48.362498  \n",
      "18                 47.902987  \n",
      "19                 47.870776  \n",
      "20                 48.255404  \n",
      "21                 48.379908  \n",
      "22                 47.472669  \n",
      "23                 48.166636  \n",
      "24                 48.283406  \n",
      "25                 48.326121  \n",
      "26                 48.199729  \n",
      "27                 48.371528  \n",
      "28                 47.458659  \n",
      "29                 48.265957  \n",
      "30                 48.285558  \n",
      "31                 48.342845  \n",
      "32                 48.351114  \n",
      "33                 48.679773  \n",
      "34                 47.678994  \n",
      "35                 48.108564  \n",
      "36                 47.972444  \n",
      "37                 48.356689  \n",
      "38                 48.742312  \n",
      "39                 48.498370  \n"
     ]
    },
    {
     "data": {
      "text/plain": [
       "<AxesSubplot:xlabel='T'>"
      ]
     },
     "execution_count": 9,
     "metadata": {},
     "output_type": "execute_result"
    },
    {
     "data": {
      "image/png": "[encoded data removed]",
      "text/plain": [
       "<Figure size 640x480 with 1 Axes>"
      ]
     },
     "metadata": {},
     "output_type": "display_data"
    }
   ],
   "source": [
    "print(df)\n",
    "df.plot(x='T', y=['branch', 'deep_bsde', 'exact'])"
   ]
  },
  {
   "cell_type": "markdown",
   "id": "6929cfe1",
   "metadata": {},
   "source": [
    "### Dimension d = 100"
   ]
  },
  {
   "cell_type": "code",
   "execution_count": null,
   "id": "b5a378ab",
   "metadata": {},
   "outputs": [],
   "source": [
    "fixed_dim, dim = 0, 100\n",
    "\n",
    "problem_name = f\"allen_cahn_jeeq_dim_{dim}_blow_up_analysis\"\n",
    "\n",
    "# function definition\n",
    "deriv_map = np.array([0] * dim).reshape(-1, dim)\n",
    "def f_example(y, coordinate=0):\n",
    "    \"\"\"\n",
    "    idx 0 -> no deriv\n",
    "    \"\"\"\n",
    "    return y[0] - y[0] ** 3\n",
    "\n",
    "def phi_example(x, coordinate=0):\n",
    "    return -0.5 - 0.5 * torch.nn.Tanh()(-.5 * x.sum(dim=0) / math.sqrt(dim))\n",
    "\n",
    "def exact_example(t, x, T, coordinate=0):\n",
    "    return -0.5 - 0.5 * np.tanh(-.5*x.sum(axis=0)/math.sqrt(dim) + 3*(T-t)/4)\n",
    "\n",
    "delta_t = 0.05\n",
    "T_arr = np.arange(delta_t, 2 + delta_t, delta_t)\n",
    "df = blow_up_analysis(\n",
    "    T_arr=T_arr,\n",
    "    dim=dim,\n",
    "    problem_name=problem_name,\n",
    "    deriv_map=deriv_map,\n",
    "    f_example=f_example,\n",
    "    phi_example=phi_example,\n",
    "    exact_example=exact_example\n",
    ")"
   ]
  },
  {
   "cell_type": "markdown",
   "id": "f2a493e3",
   "metadata": {},
   "source": [
    "print(df)\n",
    "df.plot(x='T', y=['branch', 'deep_bsde', 'exact'])"
   ]
  },
  {
   "cell_type": "markdown",
   "id": "ca5838a2",
   "metadata": {},
   "source": [
    "## Allen Cahn Equation (5.2) - d = 1, T = 0.5"
   ]
  },
  {
   "cell_type": "code",
   "execution_count": 3,
   "id": "0d5e5764",
   "metadata": {},
   "outputs": [],
   "source": [
    "fixed_dim, dim = 0, 5\n",
    "\n",
    "problem_name = f\"allen_cahn_jeeq_dim_{dim}\"\n",
    "\n",
    "# function definition\n",
    "deriv_map = np.array([0] * dim).reshape(-1, dim)\n",
    "def f_example(y, coordinate=0):\n",
    "    \"\"\"\n",
    "    idx 0 -> no deriv\n",
    "    \"\"\"\n",
    "    return y[0] - y[0] ** 3\n",
    "\n",
    "def phi_example(x, coordinate=0):\n",
    "    return -0.5 - 0.5 * torch.nn.Tanh()(-.5 * x.sum(dim=0) / math.sqrt(dim))\n",
    "\n",
    "def exact_example(t, x, T, coordinate=0):\n",
    "    return -0.5 - 0.5 * np.tanh(-.5*x.sum(axis=0)/math.sqrt(dim) + 3*(T-t)/4)\n",
    "\n",
    "x_lo, x_hi = -8, 8"
   ]
  },
  {
   "cell_type": "code",
   "execution_count": 4,
   "id": "c40bb9f1",
   "metadata": {},
   "outputs": [
    {
     "name": "stderr",
     "output_type": "stream",
     "text": [
      "Logs are saved in /home/nguwijy/deep_branching_with_domain/notebooks/logs/tmp\n"
     ]
    },
    {
     "data": {
      "image/png": "[encoded data removed]",
      "text/plain": [
       "<Figure size 432x288 with 1 Axes>"
      ]
     },
     "metadata": {
      "needs_background": "light"
     },
     "output_type": "display_data"
    },
    {
     "name": "stdout",
     "output_type": "stream",
     "text": [
      "fdb time: 0.0 seconds; total time: 5.2 seconds; time without fdb: 5.2 seconds.\n"
     ]
    }
   ],
   "source": [
    "patches = 1\n",
    "T = patches * .5\n",
    "\n",
    "start = time.time()\n",
    "\n",
    "torch.manual_seed(0)\n",
    "model = Net(\n",
    "    problem_name=problem_name,\n",
    "    f_fun=f_example,\n",
    "    deriv_map=deriv_map,\n",
    "    phi_fun=phi_example,\n",
    "    device=device,\n",
    "    x_lo=x_lo,\n",
    "    x_hi=x_hi,\n",
    "    T=T,\n",
    "    verbose=True,\n",
    "    branch_patches=patches,\n",
    "    branch_nb_path_per_state=100000,\n",
    "    save_as_tmp=True,\n",
    ")\n",
    "simulate_mc_and_plot(model, exact_example=exact_example)\n",
    "tot_time = time.time() - start\n",
    "time_without_fdb = tot_time - model.fdb_runtime\n",
    "print(f\"fdb time: {model.fdb_runtime:.1f} seconds; total time: {tot_time:.1f} seconds; time without fdb: {time_without_fdb:.1f} seconds.\")"
   ]
  },
  {
   "cell_type": "markdown",
   "id": "ca8f8c0f",
   "metadata": {},
   "source": [
    "## Allen Cahn Equation (5.2) - d = 100, T = 0.3"
   ]
  },
  {
   "cell_type": "code",
   "execution_count": 5,
   "id": "3c330500",
   "metadata": {},
   "outputs": [],
   "source": [
    "fixed_dim, dim = 0, 100\n",
    "\n",
    "problem_name = f\"allen_cahn_jeeq_dim_{dim}\"\n",
    "\n",
    "# function definition\n",
    "deriv_map = np.array([0] * dim).reshape(-1, dim)\n",
    "def f_example(y, coordinate=0):\n",
    "    \"\"\"\n",
    "    idx 0 -> no deriv\n",
    "    \"\"\"\n",
    "    return y[0] - y[0] ** 3\n",
    "\n",
    "def phi_example(x, coordinate=0):\n",
    "    return -0.5 - 0.5 * torch.nn.Tanh()(-.5 * x.sum(dim=0) / math.sqrt(dim))\n",
    "\n",
    "def exact_example(t, x, T, coordinate=0):\n",
    "    return -0.5 - 0.5 * np.tanh(-.5*x.sum(axis=0)/math.sqrt(dim) + 3*(T-t)/4)\n",
    "\n",
    "x_lo, x_hi = -8, 8"
   ]
  },
  {
   "cell_type": "code",
   "execution_count": 6,
   "id": "1b3ba108",
   "metadata": {},
   "outputs": [
    {
     "name": "stderr",
     "output_type": "stream",
     "text": [
      "Logs are saved in /home/nguwijy/deep_branching_with_domain/notebooks/logs/tmp\n"
     ]
    },
    {
     "data": {
      "image/png": "[encoded data removed]",
      "text/plain": [
       "<Figure size 432x288 with 1 Axes>"
      ]
     },
     "metadata": {
      "needs_background": "light"
     },
     "output_type": "display_data"
    },
    {
     "name": "stdout",
     "output_type": "stream",
     "text": [
      "fdb time: 0.0 seconds; total time: 81.5 seconds; time without fdb: 81.4 seconds.\n"
     ]
    }
   ],
   "source": [
    "patches = 1\n",
    "T = patches * .3\n",
    "\n",
    "start = time.time()\n",
    "\n",
    "torch.manual_seed(0)\n",
    "model = Net(\n",
    "    problem_name=problem_name,\n",
    "    f_fun=f_example,\n",
    "    deriv_map=deriv_map,\n",
    "    phi_fun=phi_example,\n",
    "    device=device,\n",
    "    x_lo=x_lo,\n",
    "    x_hi=x_hi,\n",
    "    T=T,\n",
    "    verbose=True,\n",
    "    branch_patches=patches,\n",
    "    branch_nb_path_per_state=100000,\n",
    "    save_as_tmp=True,\n",
    ")\n",
    "simulate_mc_and_plot(model, exact_example=exact_example, repeats=10)\n",
    "tot_time = time.time() - start\n",
    "time_without_fdb = tot_time - model.fdb_runtime\n",
    "print(f\"fdb time: {model.fdb_runtime:.1f} seconds; total time: {tot_time:.1f} seconds; time without fdb: {time_without_fdb:.1f} seconds.\")"
   ]
  },
  {
   "cell_type": "markdown",
   "id": "58304e03",
   "metadata": {},
   "source": [
    "## Exponential Nonlinearity Equation (5.5) - d = 5"
   ]
  },
  {
   "cell_type": "code",
   "execution_count": 7,
   "id": "cb37a450",
   "metadata": {},
   "outputs": [],
   "source": [
    "fixed_dim, dim = 0, 5\n",
    "alpha = 10\n",
    "\n",
    "problem_name = f\"exponential_nonlinearity_jeeq_dim_{dim}\"\n",
    "\n",
    "# function definition\n",
    "deriv_map = np.concatenate((np.array([[0] * dim]), np.identity(dim)), axis=0).astype(int)\n",
    "def f_example(y, coordinate=0):\n",
    "    \"\"\"\n",
    "    idx 0      -> no deriv\n",
    "    idx 1 to d -> first deriv\n",
    "    \"\"\"\n",
    "    return alpha/dim*y[1:].sum(dim=0) - 2*dim*torch.exp(-2*y[0]) + dim*torch.exp(-y[0])\n",
    "\n",
    "def phi_example(x, coordinate=0):\n",
    "    return torch.log(1 + x.sum(dim=0) ** 2)\n",
    "\n",
    "def exact_example(t, x, T, coordinate=0):\n",
    "    return np.log(1 + (x.sum(axis=0) + alpha * (T - t)) ** 2)\n",
    "\n",
    "x_lo, x_hi = -4, 4"
   ]
  },
  {
   "cell_type": "code",
   "execution_count": 8,
   "id": "3b8171a0",
   "metadata": {},
   "outputs": [
    {
     "name": "stderr",
     "output_type": "stream",
     "text": [
      "Logs are saved in /home/nguwijy/deep_branching_with_domain/notebooks/logs/tmp\n"
     ]
    },
    {
     "data": {
      "image/png": "[encoded data removed]",
      "text/plain": [
       "<Figure size 432x288 with 1 Axes>"
      ]
     },
     "metadata": {
      "needs_background": "light"
     },
     "output_type": "display_data"
    },
    {
     "name": "stdout",
     "output_type": "stream",
     "text": [
      "fdb time: 0.2 seconds; total time: 5.1 seconds; time without fdb: 4.9 seconds.\n"
     ]
    }
   ],
   "source": [
    "patches = 1\n",
    "T = patches * .05\n",
    "\n",
    "start = time.time()\n",
    "\n",
    "torch.manual_seed(0)\n",
    "model = Net(\n",
    "    problem_name=problem_name,\n",
    "    f_fun=f_example,\n",
    "    deriv_map=deriv_map,\n",
    "    phi_fun=phi_example,\n",
    "    device=device,\n",
    "    x_lo=x_lo,\n",
    "    x_hi=x_hi,\n",
    "    T=T,\n",
    "    verbose=True,\n",
    "    branch_patches=patches,\n",
    "    branch_nb_path_per_state=100000,\n",
    "    save_as_tmp=True,\n",
    ")\n",
    "simulate_mc_and_plot(model, exact_example=exact_example)\n",
    "tot_time = time.time() - start\n",
    "time_without_fdb = tot_time - model.fdb_runtime\n",
    "print(f\"fdb time: {model.fdb_runtime:.1f} seconds; total time: {tot_time:.1f} seconds; time without fdb: {time_without_fdb:.1f} seconds.\")"
   ]
  },
  {
   "cell_type": "markdown",
   "id": "87e16d5f",
   "metadata": {},
   "source": [
    "## Exponential Nonlinearity Equation (5.5) - d = 10"
   ]
  },
  {
   "cell_type": "code",
   "execution_count": 9,
   "id": "869c9b50",
   "metadata": {},
   "outputs": [],
   "source": [
    "fixed_dim, dim = 0, 10\n",
    "alpha = 10\n",
    "\n",
    "problem_name = f\"exponential_nonlinearity_jeeq_dim_{dim}\"\n",
    "\n",
    "# function definition\n",
    "deriv_map = np.concatenate((np.array([[0] * dim]), np.identity(dim)), axis=0).astype(int)\n",
    "def f_example(y, coordinate=0):\n",
    "    \"\"\"\n",
    "    idx 0      -> no deriv\n",
    "    idx 1 to d -> first deriv\n",
    "    \"\"\"\n",
    "    return alpha/dim*y[1:].sum(dim=0) - 2*dim*torch.exp(-2*y[0]) + dim*torch.exp(-y[0])\n",
    "\n",
    "def phi_example(x, coordinate=0):\n",
    "    return torch.log(1 + x.sum(dim=0) ** 2)\n",
    "\n",
    "def exact_example(t, x, T, coordinate=0):\n",
    "    return np.log(1 + (x.sum(axis=0) + alpha * (T - t)) ** 2)\n",
    "\n",
    "x_lo, x_hi = -4, 4"
   ]
  },
  {
   "cell_type": "code",
   "execution_count": 10,
   "id": "36de56de",
   "metadata": {},
   "outputs": [
    {
     "name": "stderr",
     "output_type": "stream",
     "text": [
      "Logs are saved in /home/nguwijy/deep_branching_with_domain/notebooks/logs/tmp\n"
     ]
    },
    {
     "data": {
      "image/png": "[encoded data removed]",
      "text/plain": [
       "<Figure size 432x288 with 1 Axes>"
      ]
     },
     "metadata": {
      "needs_background": "light"
     },
     "output_type": "display_data"
    },
    {
     "name": "stdout",
     "output_type": "stream",
     "text": [
      "fdb time: 2.5 seconds; total time: 19.9 seconds; time without fdb: 17.5 seconds.\n"
     ]
    }
   ],
   "source": [
    "patches = 1\n",
    "T = patches * .05\n",
    "\n",
    "start = time.time()\n",
    "\n",
    "torch.manual_seed(0)\n",
    "model = Net(\n",
    "    problem_name=problem_name,\n",
    "    f_fun=f_example,\n",
    "    deriv_map=deriv_map,\n",
    "    phi_fun=phi_example,\n",
    "    device=device,\n",
    "    x_lo=x_lo,\n",
    "    x_hi=x_hi,\n",
    "    T=T,\n",
    "    verbose=True,\n",
    "    branch_patches=patches,\n",
    "    branch_nb_path_per_state=100000,\n",
    "    save_as_tmp=True,\n",
    ")\n",
    "simulate_mc_and_plot(model, exact_example=exact_example)\n",
    "tot_time = time.time() - start\n",
    "time_without_fdb = tot_time - model.fdb_runtime\n",
    "print(f\"fdb time: {model.fdb_runtime:.1f} seconds; total time: {tot_time:.1f} seconds; time without fdb: {time_without_fdb:.1f} seconds.\")"
   ]
  },
  {
   "cell_type": "markdown",
   "id": "ce13d367",
   "metadata": {},
   "source": [
    "## Dym Equation (5.6)"
   ]
  },
  {
   "cell_type": "code",
   "execution_count": 13,
   "id": "149b2532",
   "metadata": {},
   "outputs": [
    {
     "name": "stderr",
     "output_type": "stream",
     "text": [
      "Logs are saved in /home/nguwijy/deep_branching_with_domain/notebooks/logs/tmp\n"
     ]
    },
    {
     "data": {
      "image/png": "[encoded data removed]",
      "text/plain": [
       "<Figure size 432x288 with 1 Axes>"
      ]
     },
     "metadata": {
      "needs_background": "light"
     },
     "output_type": "display_data"
    },
    {
     "name": "stdout",
     "output_type": "stream",
     "text": [
      "fdb time: 0.2 seconds; total time: 4.5 seconds; time without fdb: 4.3 seconds.\n"
     ]
    }
   ],
   "source": [
    "patches = 1\n",
    "T = patches * .05\n",
    "\n",
    "start = time.time()\n",
    "\n",
    "torch.manual_seed(0)\n",
    "model = Net(\n",
    "    problem_name=problem_name,\n",
    "    f_fun=f_example,\n",
    "    deriv_map=deriv_map,\n",
    "    phi_fun=phi_example,\n",
    "    device=device,\n",
    "    x_lo=x_lo,\n",
    "    x_hi=x_hi,\n",
    "    T=T,\n",
    "    verbose=True,\n",
    "    branch_patches=patches,\n",
    "    branch_nb_path_per_state=100000,\n",
    "    save_as_tmp=True,\n",
    ")\n",
    "simulate_mc_and_plot(model, exact_example=exact_example)\n",
    "tot_time = time.time() - start\n",
    "time_without_fdb = tot_time - model.fdb_runtime\n",
    "print(f\"fdb time: {model.fdb_runtime:.1f} seconds; total time: {tot_time:.1f} seconds; time without fdb: {time_without_fdb:.1f} seconds.\")"
   ]
  },
  {
   "cell_type": "code",
   "execution_count": 20,
   "id": "711ca787",
   "metadata": {},
   "outputs": [],
   "source": [
    "problem_name = \"dym_jeeq\"\n",
    "\n",
    "fixed_dim, dim = 0, 5\n",
    "alpha = -2\n",
    "\n",
    "# function definition\n",
    "deriv_map = np.concatenate((np.array([[0] * dim]), 2 * np.identity(dim), 3 * np.identity(dim)), axis=0).astype(int)\n",
    "def f_example(y, coordinate=0):\n",
    "    \"\"\"\n",
    "    idx 0          -> no deriv\n",
    "    idx 1 to d     -> second deriv\n",
    "    idx 1+d to 2d  -> third deriv\n",
    "    \"\"\"\n",
    "    return -.5 * y[1:(dim+1)].sum(dim=0) + (y[0] ** 3) * y[(dim+1):].sum(dim=0) / dim\n",
    "\n",
    "def phi_example(x, coordinate=0):\n",
    "    ans = (-3 * alpha * x.sum(dim=0))\n",
    "    return ans.sign() * ans.abs().pow(2/3)\n",
    "\n",
    "def exact_example(t, x, T, coordinate=0):\n",
    "    return (-3 * alpha * (x.sum(axis=0) + 4 * alpha**2 * (T - t))) ** (2/3)\n",
    "\n",
    "x_lo, x_hi = 1, 2"
   ]
  },
  {
   "cell_type": "code",
   "execution_count": 21,
   "id": "9f16f1de",
   "metadata": {},
   "outputs": [
    {
     "name": "stderr",
     "output_type": "stream",
     "text": [
      "Logs are saved in /home/nguwijy/deep_branching_with_domain/notebooks/logs/tmp\n"
     ]
    },
    {
     "data": {
      "image/png": "[encoded data removed]",
      "text/plain": [
       "<Figure size 432x288 with 1 Axes>"
      ]
     },
     "metadata": {
      "needs_background": "light"
     },
     "output_type": "display_data"
    },
    {
     "name": "stdout",
     "output_type": "stream",
     "text": [
      "fdb time: 43.6 seconds; total time: 112.9 seconds; time without fdb: 69.2 seconds.\n"
     ]
    }
   ],
   "source": [
    "patches = 1\n",
    "T = patches * .01\n",
    "\n",
    "start = time.time()\n",
    "\n",
    "torch.manual_seed(0)\n",
    "model = Net(\n",
    "    problem_name=problem_name,\n",
    "    f_fun=f_example,\n",
    "    deriv_map=deriv_map,\n",
    "    phi_fun=phi_example,\n",
    "    device=device,\n",
    "    x_lo=x_lo,\n",
    "    x_hi=x_hi,\n",
    "    T=T,\n",
    "    verbose=True,\n",
    "    branch_patches=patches,\n",
    "    branch_nb_path_per_state=100000,\n",
    "    save_as_tmp=True,\n",
    ")\n",
    "simulate_mc_and_plot(model, exact_example=exact_example)\n",
    "tot_time = time.time() - start\n",
    "time_without_fdb = tot_time - model.fdb_runtime\n",
    "print(f\"fdb time: {model.fdb_runtime:.1f} seconds; total time: {tot_time:.1f} seconds; time without fdb: {time_without_fdb:.1f} seconds.\")"
   ]
  },
  {
   "cell_type": "markdown",
   "id": "f0295ccc",
   "metadata": {},
   "source": [
    "## Quasilinear Nonpolynomial Equation (5.7)"
   ]
  },
  {
   "cell_type": "code",
   "execution_count": 22,
   "id": "2bdcbdd1",
   "metadata": {},
   "outputs": [],
   "source": [
    "problem_name = \"quasilinear_nonpolynomial_jeeq\"\n",
    "\n",
    "fixed_dim, dim = 0, 5\n",
    "alpha = 10\n",
    "\n",
    "# function definition\n",
    "deriv_map = np.concatenate((np.array([[0] * dim]), 1 * np.identity(dim), 2 * np.identity(dim)), axis=0).astype(int)\n",
    "def f_example(y, coordinate=0):\n",
    "    \"\"\"\n",
    "    idx 0          -> no deriv\n",
    "    idx 1 to d     -> first deriv\n",
    "    idx 1+d to 2d  -> second deriv\n",
    "    \"\"\"\n",
    "    return -.5 * y[(dim+1):(2*dim+1)].sum(dim=0) + alpha * y[1:(dim+1)].sum(dim=0) / dim + y[(dim+1):].sum(dim=0) / dim / (1 + y[0] ** 2) - 2 * y[0]\n",
    "\n",
    "def phi_example(x, coordinate=0):\n",
    "    return torch.tan(x.sum(dim=0))\n",
    "\n",
    "def exact_example(t, x, T, coordinate=0):\n",
    "    return np.tan(x.sum(axis=0) + alpha * (T - t))\n",
    "\n",
    "x_lo, x_hi = -math.pi/4, math.pi/4"
   ]
  },
  {
   "cell_type": "code",
   "execution_count": 23,
   "id": "b76fb954",
   "metadata": {},
   "outputs": [
    {
     "name": "stderr",
     "output_type": "stream",
     "text": [
      "Logs are saved in /home/nguwijy/deep_branching_with_domain/notebooks/logs/tmp\n"
     ]
    },
    {
     "data": {
      "image/png": "[encoded data removed]",
      "text/plain": [
       "<Figure size 432x288 with 1 Axes>"
      ]
     },
     "metadata": {
      "needs_background": "light"
     },
     "output_type": "display_data"
    },
    {
     "name": "stdout",
     "output_type": "stream",
     "text": [
      "fdb time: 8.1 seconds; total time: 28.1 seconds; time without fdb: 20.0 seconds.\n"
     ]
    }
   ],
   "source": [
    "patches = 1\n",
    "T = patches * .01\n",
    "\n",
    "start = time.time()\n",
    "\n",
    "torch.manual_seed(0)\n",
    "model = Net(\n",
    "    problem_name=problem_name,\n",
    "    f_fun=f_example,\n",
    "    deriv_map=deriv_map,\n",
    "    phi_fun=phi_example,\n",
    "    device=device,\n",
    "    x_lo=x_lo,\n",
    "    x_hi=x_hi,\n",
    "    T=T,\n",
    "    verbose=True,\n",
    "    branch_patches=patches,\n",
    "    branch_nb_path_per_state=100000,\n",
    "    save_as_tmp=True,\n",
    ")\n",
    "simulate_mc_and_plot(model, exact_example=exact_example)\n",
    "tot_time = time.time() - start\n",
    "time_without_fdb = tot_time - model.fdb_runtime\n",
    "print(f\"fdb time: {model.fdb_runtime:.1f} seconds; total time: {tot_time:.1f} seconds; time without fdb: {time_without_fdb:.1f} seconds.\")"
   ]
  },
  {
   "cell_type": "markdown",
   "id": "a365c71d",
   "metadata": {},
   "source": [
    "## Cosine Nonlinearity Equation (5.9)"
   ]
  },
  {
   "cell_type": "code",
   "execution_count": 24,
   "id": "ba5e6c86",
   "metadata": {},
   "outputs": [],
   "source": [
    "problem_name = \"cosine_nonlinearity_jeeq\"\n",
    "\n",
    "fixed_dim, dim = 0, 5\n",
    "alpha = 10\n",
    "\n",
    "# function definition\n",
    "deriv_map = np.concatenate((np.array([[0] * dim]), 1 * np.identity(dim), 2 * np.identity(dim), 4 * np.identity(dim)), axis=0).astype(int)\n",
    "def f_example(y, coordinate=0):\n",
    "    \"\"\"\n",
    "    idx 0          -> no deriv\n",
    "    idx 1 to d     -> first deriv\n",
    "    idx 1+d to 2d  -> second deriv\n",
    "    idx 1+2d to 3d -> forth deriv\n",
    "    \"\"\"\n",
    "    return -.5 * y[(dim+1):(2*dim+1)].sum(dim=0) + alpha * y[1:(dim+1)].sum(dim=0) / dim + y[0] - (y[(dim+1):(2*dim+1)].sum(dim=0) / 12 / dim) ** 2 + torch.cos(math.pi * y[(2*dim+1):] / 24).sum(dim=0) / dim\n",
    "\n",
    "def phi_example(x, coordinate=0):\n",
    "    xx = x.sum(dim=0)\n",
    "    return xx**4 + xx**3 - 36/47 * xx**2 - 24*36/47 * xx + 4 * (36/47)**2\n",
    "\n",
    "def exact_example(t, x, T, coordinate=0):\n",
    "    xx = x.sum(axis=0) + alpha * (T - t)\n",
    "    return xx**4 + xx**3 - 36/47 * xx**2 - 24*36/47 * xx + 4 * (36/47)**2\n",
    "\n",
    "x_lo, x_hi = -5, 5"
   ]
  },
  {
   "cell_type": "code",
   "execution_count": 25,
   "id": "6da00fe3",
   "metadata": {},
   "outputs": [
    {
     "name": "stderr",
     "output_type": "stream",
     "text": [
      "Logs are saved in /home/nguwijy/deep_branching_with_domain/notebooks/logs/tmp\n"
     ]
    },
    {
     "data": {
      "image/png": "[encoded data removed]",
      "text/plain": [
       "<Figure size 432x288 with 1 Axes>"
      ]
     },
     "metadata": {
      "needs_background": "light"
     },
     "output_type": "display_data"
    },
    {
     "name": "stdout",
     "output_type": "stream",
     "text": [
      "fdb time: 98.4 seconds; total time: 110.6 seconds; time without fdb: 12.1 seconds.\n"
     ]
    }
   ],
   "source": [
    "patches = 1\n",
    "T = patches * .04\n",
    "\n",
    "start = time.time()\n",
    "\n",
    "torch.manual_seed(0)\n",
    "model = Net(\n",
    "    problem_name=problem_name,\n",
    "    f_fun=f_example,\n",
    "    deriv_map=deriv_map,\n",
    "    phi_fun=phi_example,\n",
    "    device=device,\n",
    "    x_lo=x_lo,\n",
    "    x_hi=x_hi,\n",
    "    T=T,\n",
    "    verbose=True,\n",
    "    branch_patches=patches,\n",
    "    branch_nb_path_per_state=1000,\n",
    "    save_as_tmp=True,\n",
    ")\n",
    "simulate_mc_and_plot(model, exact_example=exact_example)\n",
    "tot_time = time.time() - start\n",
    "time_without_fdb = tot_time - model.fdb_runtime\n",
    "print(f\"fdb time: {model.fdb_runtime:.1f} seconds; total time: {tot_time:.1f} seconds; time without fdb: {time_without_fdb:.1f} seconds.\")"
   ]
  },
  {
   "cell_type": "markdown",
   "id": "5ad42fe8",
   "metadata": {},
   "source": [
    "## Log Nonlinearity Equation (5.10)"
   ]
  },
  {
   "cell_type": "code",
   "execution_count": 26,
   "id": "b5cb3ad7",
   "metadata": {},
   "outputs": [],
   "source": [
    "problem_name = \"log_nonlinearity_jeeq\"\n",
    "\n",
    "fixed_dim, dim = 0, 5\n",
    "alpha = 10\n",
    "\n",
    "# function definition\n",
    "deriv_map = np.concatenate((1 * np.identity(dim), 2 * np.identity(dim), 3 * np.identity(dim)), axis=0).astype(int)\n",
    "def f_example(y, coordinate=0):\n",
    "    \"\"\"\n",
    "    idx 0 to d-1   -> first deriv\n",
    "    idx d to 2d-1  -> second deriv\n",
    "    idx 2d to 3d-1 -> third deriv\n",
    "    \"\"\"\n",
    "    return -.5 * y[dim:(2*dim)].sum(dim=0) + alpha * y[:dim].sum(dim=0) / dim + torch.log(((y[dim:(2*dim)]**2).sum(dim=0) + (y[(2*dim):]**2).sum(dim=0)) / dim)\n",
    "\n",
    "def phi_example(x, coordinate=0):\n",
    "    return torch.cos(x.sum(dim=0))\n",
    "\n",
    "def exact_example(t, x, T, coordinate=0):\n",
    "    return np.cos(x.sum(axis=0) + alpha * (T-t))\n",
    "\n",
    "x_lo, x_hi = -3, 3"
   ]
  },
  {
   "cell_type": "code",
   "execution_count": 28,
   "id": "bd7125f6",
   "metadata": {},
   "outputs": [
    {
     "name": "stderr",
     "output_type": "stream",
     "text": [
      "Logs are saved in /home/nguwijy/deep_branching_with_domain/notebooks/logs/tmp\n"
     ]
    },
    {
     "data": {
      "image/png": "[encoded data removed]",
      "text/plain": [
       "<Figure size 432x288 with 1 Axes>"
      ]
     },
     "metadata": {
      "needs_background": "light"
     },
     "output_type": "display_data"
    },
    {
     "name": "stdout",
     "output_type": "stream",
     "text": [
      "fdb time: 48.5 seconds; total time: 57.1 seconds; time without fdb: 8.6 seconds.\n"
     ]
    }
   ],
   "source": [
    "patches = 1\n",
    "T = patches * .02\n",
    "\n",
    "start = time.time()\n",
    "\n",
    "torch.manual_seed(0)\n",
    "model = Net(\n",
    "    problem_name=problem_name,\n",
    "    f_fun=f_example,\n",
    "    deriv_map=deriv_map,\n",
    "    phi_fun=phi_example,\n",
    "    device=device,\n",
    "    x_lo=x_lo,\n",
    "    x_hi=x_hi,\n",
    "    T=T,\n",
    "    verbose=True,\n",
    "    branch_patches=patches,\n",
    "    branch_nb_path_per_state=10000,\n",
    "    save_as_tmp=True,\n",
    ")\n",
    "simulate_mc_and_plot(model, exact_example=exact_example)\n",
    "tot_time = time.time() - start\n",
    "time_without_fdb = tot_time - model.fdb_runtime\n",
    "print(f\"fdb time: {model.fdb_runtime:.1f} seconds; total time: {tot_time:.1f} seconds; time without fdb: {time_without_fdb:.1f} seconds.\")"
   ]
  }
 ],
 "metadata": {
  "colab": {
   "collapsed_sections": [
    "97ae5067",
    "0afe9392",
    "ba5139ff",
    "97999414",
    "cfb63dd9"
   ],
   "name": "tmp.ipynb",
   "provenance": []
  },
  "kernelspec": {
   "display_name": "Python 3 (ipykernel)",
   "language": "python",
   "name": "python3"
  },
  "language_info": {
   "codemirror_mode": {
    "name": "ipython",
    "version": 3
   },
   "file_extension": ".py",
   "mimetype": "text/x-python",
   "name": "python",
   "nbconvert_exporter": "python",
   "pygments_lexer": "ipython3",
   "version": "3.8.12"
  }
 },
 "nbformat": 4,
 "nbformat_minor": 5
}
